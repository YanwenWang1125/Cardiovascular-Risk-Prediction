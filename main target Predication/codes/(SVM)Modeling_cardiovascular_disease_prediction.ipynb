{
  "nbformat": 4,
  "nbformat_minor": 0,
  "metadata": {
    "colab": {
      "provenance": []
    },
    "kernelspec": {
      "name": "python3",
      "display_name": "Python 3"
    },
    "language_info": {
      "name": "python"
    }
  },
  "cells": [
    {
      "cell_type": "code",
      "execution_count": null,
      "metadata": {
        "id": "XNUVBwEYhDRw"
      },
      "outputs": [],
      "source": [
        "# SVM\n",
        "binary_y_train = ytrain >= ytrain.mean()\n",
        "binary_y_test = ytest >= ytest.mean()\n",
        "start_time = time.time()\n",
        "pipe = Pipeline([('scaler', StandardScaler()), (\"svm\", LinearSVC(max_iter=5000))])\n",
        "pipe.fit(Xtrain, binary_y_train)\n",
        "train_time = time.time() - start_time\n",
        "print(\"Time for SVM: {:.2f}\".format(train_time))\n",
        "\n",
        "\n",
        "# evaluate the model\n",
        "ytrain_pred = pipe.predict(Xtrain)\n",
        "train_precision = precision_score(binary_y_train, pipe.predict(Xtrain))\n",
        "print(\"Training Precision: {:.4f}\".format(train_precision))\n",
        "\n",
        "ytest_pred = pipe.predict(Xtest)\n",
        "test_accuracy = accuracy_score(binary_y_test, pipe.predict(Xtest))\n",
        "print(\"Testing Accuracy: {:.4f}\".format(test_accuracy))\n",
        "\n",
        "recall = recall_score(ytest, ytest_pred)\n",
        "print(\"Recall score: {:.4f}\".format(recall))\n",
        "\n",
        "r1_score = average_precision_score(ytest, ytest_pred)\n",
        "print(\"R1 score: {:.4f}\".format(r1_score))\n",
        "\n",
        "# plot the ROC curve\n",
        "fpr, tpr, thresholds = roc_curve(ytest, ytest_pred)\n",
        "auc = roc_auc_score(ytest, ytest_pred)\n",
        "plt.figure()\n",
        "plt.plot(fpr, tpr, label='ROC curve (area = {:.4f})'.format(auc))\n",
        "plt.plot([0, 1], [0, 1], 'k--')\n",
        "plt.xlabel('False positive rate')\n",
        "plt.ylabel('True positive rate')\n",
        "plt.title('ROC curve')\n",
        "plt.legend(loc='lower right')\n",
        "plt.show()\n",
        "\n",
        "\n",
        "cm = confusion_matrix(binary_y_test, ytest_pred)\n",
        "plt.figure(figsize=(8, 6))\n",
        "sns.heatmap(cm, annot=True, cmap=\"Blues\")\n",
        "plt.xlabel(\"Predicted Labels\")\n",
        "plt.ylabel(\"True Labels\")\n",
        "plt.title(\"Confusion Matrix\")\n",
        "plt.show()\n"
      ]
    }
  ]
}