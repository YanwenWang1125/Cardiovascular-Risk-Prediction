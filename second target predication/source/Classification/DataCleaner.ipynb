{
 "cells": [
  {
   "cell_type": "code",
   "id": "initial_id",
   "metadata": {
    "collapsed": true,
    "ExecuteTime": {
     "end_time": "2025-07-22T18:54:41.581285Z",
     "start_time": "2025-07-22T18:54:41.387991Z"
    }
   },
   "source": [
    "import pandas as pd\n",
    "import numpy as np\n",
    "import matplotlib.pyplot as plt\n",
    "import seaborn as sns\n",
    "from sklearn.model_selection import train_test_split\n",
    "from sklearn.preprocessing import StandardScaler, OneHotEncoder\n",
    "from sklearn.compose import ColumnTransformer\n",
    "from sklearn.pipeline import Pipeline\n"
   ],
   "outputs": [],
   "execution_count": 16
  },
  {
   "metadata": {
    "ExecuteTime": {
     "end_time": "2025-07-22T18:49:39.150430Z",
     "start_time": "2025-07-22T18:49:39.112951Z"
    }
   },
   "cell_type": "code",
   "source": "cardioRaw=pd.read_parquet('./cardio.parquet')",
   "id": "2f632aac4de60d71",
   "outputs": [],
   "execution_count": 2
  },
  {
   "metadata": {},
   "cell_type": "markdown",
   "source": [
    "Age | Objective Feature | age | int (days)\n",
    "\n",
    "Height | Objective Feature | height | int (cm) |\n",
    "\n",
    "Weight | Objective Feature | weight | float (kg) |\n",
    "\n",
    "Gender | Objective Feature | gender | categorical code |\n",
    "\n",
    "Systolic blood pressure | Examination Feature | ap_hi | int |\n",
    "\n",
    "Diastolic blood pressure | Examination Feature | ap_lo | int |\n",
    "\n",
    "Cholesterol | Examination Feature | cholesterol | 1: normal, 2: above normal, 3: well above normal |\n",
    "\n",
    "Glucose | Examination Feature | gluc | 1: normal, 2: above normal, 3: well above normal |\n",
    "\n",
    "Smoking | Subjective Feature | smoke | binary |\n",
    "\n",
    "Alcohol intake | Subjective Feature | alco | binary |\n",
    "\n",
    "Physical activity | Subjective Feature | active | binary |\n",
    "\n",
    "Presence or absence of cardiovascular disease | Target Variable | cardio | binary |\n"
   ],
   "id": "e55dae41c3b6b67e"
  },
  {
   "metadata": {
    "ExecuteTime": {
     "end_time": "2025-07-22T18:49:39.177957Z",
     "start_time": "2025-07-22T18:49:39.167945Z"
    }
   },
   "cell_type": "code",
   "source": [
    "# Explore dataset structure\n",
    "print(\"Dataset shape:\", cardioRaw.shape)\n",
    "cardioRaw.head()\n"
   ],
   "id": "62061b4be6268324",
   "outputs": [
    {
     "name": "stdout",
     "output_type": "stream",
     "text": [
      "Dataset shape: (70000, 13)\n"
     ]
    },
    {
     "data": {
      "text/plain": [
       "   id    age  gender  height  weight  ap_hi  ap_lo  cholesterol  gluc  smoke  \\\n",
       "0   0  18393       2     168    62.0    110     80            1     1      0   \n",
       "1   1  20228       1     156    85.0    140     90            3     1      0   \n",
       "2   2  18857       1     165    64.0    130     70            3     1      0   \n",
       "3   3  17623       2     169    82.0    150    100            1     1      0   \n",
       "4   4  17474       1     156    56.0    100     60            1     1      0   \n",
       "\n",
       "   alco  active  cardio  \n",
       "0     0       1       0  \n",
       "1     0       1       1  \n",
       "2     0       0       1  \n",
       "3     0       1       1  \n",
       "4     0       0       0  "
      ],
      "text/html": [
       "<div>\n",
       "<style scoped>\n",
       "    .dataframe tbody tr th:only-of-type {\n",
       "        vertical-align: middle;\n",
       "    }\n",
       "\n",
       "    .dataframe tbody tr th {\n",
       "        vertical-align: top;\n",
       "    }\n",
       "\n",
       "    .dataframe thead th {\n",
       "        text-align: right;\n",
       "    }\n",
       "</style>\n",
       "<table border=\"1\" class=\"dataframe\">\n",
       "  <thead>\n",
       "    <tr style=\"text-align: right;\">\n",
       "      <th></th>\n",
       "      <th>id</th>\n",
       "      <th>age</th>\n",
       "      <th>gender</th>\n",
       "      <th>height</th>\n",
       "      <th>weight</th>\n",
       "      <th>ap_hi</th>\n",
       "      <th>ap_lo</th>\n",
       "      <th>cholesterol</th>\n",
       "      <th>gluc</th>\n",
       "      <th>smoke</th>\n",
       "      <th>alco</th>\n",
       "      <th>active</th>\n",
       "      <th>cardio</th>\n",
       "    </tr>\n",
       "  </thead>\n",
       "  <tbody>\n",
       "    <tr>\n",
       "      <th>0</th>\n",
       "      <td>0</td>\n",
       "      <td>18393</td>\n",
       "      <td>2</td>\n",
       "      <td>168</td>\n",
       "      <td>62.0</td>\n",
       "      <td>110</td>\n",
       "      <td>80</td>\n",
       "      <td>1</td>\n",
       "      <td>1</td>\n",
       "      <td>0</td>\n",
       "      <td>0</td>\n",
       "      <td>1</td>\n",
       "      <td>0</td>\n",
       "    </tr>\n",
       "    <tr>\n",
       "      <th>1</th>\n",
       "      <td>1</td>\n",
       "      <td>20228</td>\n",
       "      <td>1</td>\n",
       "      <td>156</td>\n",
       "      <td>85.0</td>\n",
       "      <td>140</td>\n",
       "      <td>90</td>\n",
       "      <td>3</td>\n",
       "      <td>1</td>\n",
       "      <td>0</td>\n",
       "      <td>0</td>\n",
       "      <td>1</td>\n",
       "      <td>1</td>\n",
       "    </tr>\n",
       "    <tr>\n",
       "      <th>2</th>\n",
       "      <td>2</td>\n",
       "      <td>18857</td>\n",
       "      <td>1</td>\n",
       "      <td>165</td>\n",
       "      <td>64.0</td>\n",
       "      <td>130</td>\n",
       "      <td>70</td>\n",
       "      <td>3</td>\n",
       "      <td>1</td>\n",
       "      <td>0</td>\n",
       "      <td>0</td>\n",
       "      <td>0</td>\n",
       "      <td>1</td>\n",
       "    </tr>\n",
       "    <tr>\n",
       "      <th>3</th>\n",
       "      <td>3</td>\n",
       "      <td>17623</td>\n",
       "      <td>2</td>\n",
       "      <td>169</td>\n",
       "      <td>82.0</td>\n",
       "      <td>150</td>\n",
       "      <td>100</td>\n",
       "      <td>1</td>\n",
       "      <td>1</td>\n",
       "      <td>0</td>\n",
       "      <td>0</td>\n",
       "      <td>1</td>\n",
       "      <td>1</td>\n",
       "    </tr>\n",
       "    <tr>\n",
       "      <th>4</th>\n",
       "      <td>4</td>\n",
       "      <td>17474</td>\n",
       "      <td>1</td>\n",
       "      <td>156</td>\n",
       "      <td>56.0</td>\n",
       "      <td>100</td>\n",
       "      <td>60</td>\n",
       "      <td>1</td>\n",
       "      <td>1</td>\n",
       "      <td>0</td>\n",
       "      <td>0</td>\n",
       "      <td>0</td>\n",
       "      <td>0</td>\n",
       "    </tr>\n",
       "  </tbody>\n",
       "</table>\n",
       "</div>"
      ]
     },
     "execution_count": 3,
     "metadata": {},
     "output_type": "execute_result"
    }
   ],
   "execution_count": 3
  },
  {
   "metadata": {
    "ExecuteTime": {
     "end_time": "2025-07-22T18:49:39.218313Z",
     "start_time": "2025-07-22T18:49:39.213491Z"
    }
   },
   "cell_type": "code",
   "source": [
    "# Check for missing values\n",
    "print(\"Missing values:\")\n",
    "print(cardioRaw.isnull().sum())\n"
   ],
   "id": "610b355ee9334ae0",
   "outputs": [
    {
     "name": "stdout",
     "output_type": "stream",
     "text": [
      "Missing values:\n",
      "id             0\n",
      "age            0\n",
      "gender         0\n",
      "height         0\n",
      "weight         0\n",
      "ap_hi          0\n",
      "ap_lo          0\n",
      "cholesterol    0\n",
      "gluc           0\n",
      "smoke          0\n",
      "alco           0\n",
      "active         0\n",
      "cardio         0\n",
      "dtype: int64\n"
     ]
    }
   ],
   "execution_count": 4
  },
  {
   "metadata": {
    "ExecuteTime": {
     "end_time": "2025-07-22T18:49:39.306691Z",
     "start_time": "2025-07-22T18:49:39.302363Z"
    }
   },
   "cell_type": "code",
   "source": [
    "# Check data types\n",
    "print(\"Data types:\")\n",
    "print(cardioRaw.dtypes)\n"
   ],
   "id": "90259d23865b5f5f",
   "outputs": [
    {
     "name": "stdout",
     "output_type": "stream",
     "text": [
      "Data types:\n",
      "id               int64\n",
      "age              int64\n",
      "gender           int64\n",
      "height           int64\n",
      "weight         float64\n",
      "ap_hi            int64\n",
      "ap_lo            int64\n",
      "cholesterol      int64\n",
      "gluc             int64\n",
      "smoke            int64\n",
      "alco             int64\n",
      "active           int64\n",
      "cardio           int64\n",
      "dtype: object\n"
     ]
    }
   ],
   "execution_count": 5
  },
  {
   "metadata": {
    "ExecuteTime": {
     "end_time": "2025-07-22T18:49:39.411815Z",
     "start_time": "2025-07-22T18:49:39.380729Z"
    }
   },
   "cell_type": "code",
   "source": [
    "# Basic statistics\n",
    "cardioRaw.describe()\n"
   ],
   "id": "99e3db67bd6b381f",
   "outputs": [
    {
     "data": {
      "text/plain": [
       "                 id           age        gender        height        weight  \\\n",
       "count  70000.000000  70000.000000  70000.000000  70000.000000  70000.000000   \n",
       "mean   49972.419900  19468.865814      1.349571    164.359229     74.205690   \n",
       "std    28851.302323   2467.251667      0.476838      8.210126     14.395757   \n",
       "min        0.000000  10798.000000      1.000000     55.000000     10.000000   \n",
       "25%    25006.750000  17664.000000      1.000000    159.000000     65.000000   \n",
       "50%    50001.500000  19703.000000      1.000000    165.000000     72.000000   \n",
       "75%    74889.250000  21327.000000      2.000000    170.000000     82.000000   \n",
       "max    99999.000000  23713.000000      2.000000    250.000000    200.000000   \n",
       "\n",
       "              ap_hi         ap_lo   cholesterol          gluc         smoke  \\\n",
       "count  70000.000000  70000.000000  70000.000000  70000.000000  70000.000000   \n",
       "mean     128.817286     96.630414      1.366871      1.226457      0.088129   \n",
       "std      154.011419    188.472530      0.680250      0.572270      0.283484   \n",
       "min     -150.000000    -70.000000      1.000000      1.000000      0.000000   \n",
       "25%      120.000000     80.000000      1.000000      1.000000      0.000000   \n",
       "50%      120.000000     80.000000      1.000000      1.000000      0.000000   \n",
       "75%      140.000000     90.000000      2.000000      1.000000      0.000000   \n",
       "max    16020.000000  11000.000000      3.000000      3.000000      1.000000   \n",
       "\n",
       "               alco        active        cardio  \n",
       "count  70000.000000  70000.000000  70000.000000  \n",
       "mean       0.053771      0.803729      0.499700  \n",
       "std        0.225568      0.397179      0.500003  \n",
       "min        0.000000      0.000000      0.000000  \n",
       "25%        0.000000      1.000000      0.000000  \n",
       "50%        0.000000      1.000000      0.000000  \n",
       "75%        0.000000      1.000000      1.000000  \n",
       "max        1.000000      1.000000      1.000000  "
      ],
      "text/html": [
       "<div>\n",
       "<style scoped>\n",
       "    .dataframe tbody tr th:only-of-type {\n",
       "        vertical-align: middle;\n",
       "    }\n",
       "\n",
       "    .dataframe tbody tr th {\n",
       "        vertical-align: top;\n",
       "    }\n",
       "\n",
       "    .dataframe thead th {\n",
       "        text-align: right;\n",
       "    }\n",
       "</style>\n",
       "<table border=\"1\" class=\"dataframe\">\n",
       "  <thead>\n",
       "    <tr style=\"text-align: right;\">\n",
       "      <th></th>\n",
       "      <th>id</th>\n",
       "      <th>age</th>\n",
       "      <th>gender</th>\n",
       "      <th>height</th>\n",
       "      <th>weight</th>\n",
       "      <th>ap_hi</th>\n",
       "      <th>ap_lo</th>\n",
       "      <th>cholesterol</th>\n",
       "      <th>gluc</th>\n",
       "      <th>smoke</th>\n",
       "      <th>alco</th>\n",
       "      <th>active</th>\n",
       "      <th>cardio</th>\n",
       "    </tr>\n",
       "  </thead>\n",
       "  <tbody>\n",
       "    <tr>\n",
       "      <th>count</th>\n",
       "      <td>70000.000000</td>\n",
       "      <td>70000.000000</td>\n",
       "      <td>70000.000000</td>\n",
       "      <td>70000.000000</td>\n",
       "      <td>70000.000000</td>\n",
       "      <td>70000.000000</td>\n",
       "      <td>70000.000000</td>\n",
       "      <td>70000.000000</td>\n",
       "      <td>70000.000000</td>\n",
       "      <td>70000.000000</td>\n",
       "      <td>70000.000000</td>\n",
       "      <td>70000.000000</td>\n",
       "      <td>70000.000000</td>\n",
       "    </tr>\n",
       "    <tr>\n",
       "      <th>mean</th>\n",
       "      <td>49972.419900</td>\n",
       "      <td>19468.865814</td>\n",
       "      <td>1.349571</td>\n",
       "      <td>164.359229</td>\n",
       "      <td>74.205690</td>\n",
       "      <td>128.817286</td>\n",
       "      <td>96.630414</td>\n",
       "      <td>1.366871</td>\n",
       "      <td>1.226457</td>\n",
       "      <td>0.088129</td>\n",
       "      <td>0.053771</td>\n",
       "      <td>0.803729</td>\n",
       "      <td>0.499700</td>\n",
       "    </tr>\n",
       "    <tr>\n",
       "      <th>std</th>\n",
       "      <td>28851.302323</td>\n",
       "      <td>2467.251667</td>\n",
       "      <td>0.476838</td>\n",
       "      <td>8.210126</td>\n",
       "      <td>14.395757</td>\n",
       "      <td>154.011419</td>\n",
       "      <td>188.472530</td>\n",
       "      <td>0.680250</td>\n",
       "      <td>0.572270</td>\n",
       "      <td>0.283484</td>\n",
       "      <td>0.225568</td>\n",
       "      <td>0.397179</td>\n",
       "      <td>0.500003</td>\n",
       "    </tr>\n",
       "    <tr>\n",
       "      <th>min</th>\n",
       "      <td>0.000000</td>\n",
       "      <td>10798.000000</td>\n",
       "      <td>1.000000</td>\n",
       "      <td>55.000000</td>\n",
       "      <td>10.000000</td>\n",
       "      <td>-150.000000</td>\n",
       "      <td>-70.000000</td>\n",
       "      <td>1.000000</td>\n",
       "      <td>1.000000</td>\n",
       "      <td>0.000000</td>\n",
       "      <td>0.000000</td>\n",
       "      <td>0.000000</td>\n",
       "      <td>0.000000</td>\n",
       "    </tr>\n",
       "    <tr>\n",
       "      <th>25%</th>\n",
       "      <td>25006.750000</td>\n",
       "      <td>17664.000000</td>\n",
       "      <td>1.000000</td>\n",
       "      <td>159.000000</td>\n",
       "      <td>65.000000</td>\n",
       "      <td>120.000000</td>\n",
       "      <td>80.000000</td>\n",
       "      <td>1.000000</td>\n",
       "      <td>1.000000</td>\n",
       "      <td>0.000000</td>\n",
       "      <td>0.000000</td>\n",
       "      <td>1.000000</td>\n",
       "      <td>0.000000</td>\n",
       "    </tr>\n",
       "    <tr>\n",
       "      <th>50%</th>\n",
       "      <td>50001.500000</td>\n",
       "      <td>19703.000000</td>\n",
       "      <td>1.000000</td>\n",
       "      <td>165.000000</td>\n",
       "      <td>72.000000</td>\n",
       "      <td>120.000000</td>\n",
       "      <td>80.000000</td>\n",
       "      <td>1.000000</td>\n",
       "      <td>1.000000</td>\n",
       "      <td>0.000000</td>\n",
       "      <td>0.000000</td>\n",
       "      <td>1.000000</td>\n",
       "      <td>0.000000</td>\n",
       "    </tr>\n",
       "    <tr>\n",
       "      <th>75%</th>\n",
       "      <td>74889.250000</td>\n",
       "      <td>21327.000000</td>\n",
       "      <td>2.000000</td>\n",
       "      <td>170.000000</td>\n",
       "      <td>82.000000</td>\n",
       "      <td>140.000000</td>\n",
       "      <td>90.000000</td>\n",
       "      <td>2.000000</td>\n",
       "      <td>1.000000</td>\n",
       "      <td>0.000000</td>\n",
       "      <td>0.000000</td>\n",
       "      <td>1.000000</td>\n",
       "      <td>1.000000</td>\n",
       "    </tr>\n",
       "    <tr>\n",
       "      <th>max</th>\n",
       "      <td>99999.000000</td>\n",
       "      <td>23713.000000</td>\n",
       "      <td>2.000000</td>\n",
       "      <td>250.000000</td>\n",
       "      <td>200.000000</td>\n",
       "      <td>16020.000000</td>\n",
       "      <td>11000.000000</td>\n",
       "      <td>3.000000</td>\n",
       "      <td>3.000000</td>\n",
       "      <td>1.000000</td>\n",
       "      <td>1.000000</td>\n",
       "      <td>1.000000</td>\n",
       "      <td>1.000000</td>\n",
       "    </tr>\n",
       "  </tbody>\n",
       "</table>\n",
       "</div>"
      ]
     },
     "execution_count": 6,
     "metadata": {},
     "output_type": "execute_result"
    }
   ],
   "execution_count": 6
  },
  {
   "metadata": {
    "ExecuteTime": {
     "end_time": "2025-07-22T18:49:59.906629Z",
     "start_time": "2025-07-22T18:49:39.445318Z"
    }
   },
   "cell_type": "code",
   "source": [
    "# Start data cleaning\n",
    "\n",
    "# 1. Create a copy of the raw data\n",
    "cardio_clean = cardioRaw.copy()\n",
    "\n",
    "# 2. Convert age from days to years (assume 365.25 days per year)\n",
    "cardio_clean['age_years'] = np.round(cardio_clean['age'] / 365.25, 1)\n",
    "\n",
    "# 3. Check for outliers in height, weight, and blood pressure\n",
    "plt.figure(figsize=(18, 12))\n",
    "\n",
    "# Height distribution\n",
    "plt.subplot(2, 3, 1)\n",
    "sns.histplot(cardio_clean['height'])\n",
    "plt.title('Height Distribution')\n",
    "\n",
    "# Weight distribution\n",
    "plt.subplot(2, 3, 2)\n",
    "sns.histplot(cardio_clean['weight'])\n",
    "plt.title('Weight Distribution')\n",
    "\n",
    "# Systolic blood pressure\n",
    "plt.subplot(2, 3, 3)\n",
    "sns.histplot(cardio_clean['ap_hi'])\n",
    "plt.title('Systolic BP Distribution')\n",
    "\n",
    "# Diastolic blood pressure\n",
    "plt.subplot(2, 3, 4)\n",
    "sns.histplot(cardio_clean['ap_lo'])\n",
    "plt.title('Diastolic BP Distribution')\n",
    "\n",
    "# Age in years\n",
    "plt.subplot(2, 3, 5)\n",
    "sns.histplot(cardio_clean['age_years'])\n",
    "plt.title('Age Distribution (years)')\n",
    "\n",
    "plt.tight_layout()\n",
    "plt.show()\n"
   ],
   "id": "361688f229f1792d",
   "outputs": [
    {
     "data": {
      "text/plain": [
       "<Figure size 1800x1200 with 5 Axes>"
      ],
      "image/png": "[encoded data removed]"
     },
     "metadata": {},
     "output_type": "display_data"
    }
   ],
   "execution_count": 7
  },
  {
   "metadata": {
    "ExecuteTime": {
     "end_time": "2025-07-22T18:49:59.950947Z",
     "start_time": "2025-07-22T18:49:59.932275Z"
    }
   },
   "cell_type": "code",
   "source": [
    "# 4. Define realistic ranges for physical measurements and handle outliers\n",
    "\n",
    "# Height limits (cm): typically between 140-220 cm for adults\n",
    "cardio_clean = cardio_clean[(cardio_clean['height'] >= 140) & (cardio_clean['height'] <= 220)]\n",
    "\n",
    "# Weight limits (kg): typically between 40-200 kg for adults\n",
    "cardio_clean = cardio_clean[(cardio_clean['weight'] >= 40) & (cardio_clean['weight'] <= 200)]\n",
    "\n",
    "# Blood pressure limits\n",
    "# Systolic: 80-220 mmHg (extreme cases can reach 250, but rare)\n",
    "# Diastolic: 40-120 mmHg (extreme cases can reach 130, but rare)\n",
    "cardio_clean = cardio_clean[(cardio_clean['ap_hi'] >= 80) & (cardio_clean['ap_hi'] <= 220)]\n",
    "cardio_clean = cardio_clean[(cardio_clean['ap_lo'] >= 40) & (cardio_clean['ap_lo'] <= 120)]\n",
    "\n",
    "# Logical constraint: systolic pressure should be greater than diastolic\n",
    "cardio_clean = cardio_clean[cardio_clean['ap_hi'] > cardio_clean['ap_lo']]\n",
    "\n",
    "# 5. Create BMI feature\n",
    "cardio_clean['bmi'] = np.round(cardio_clean['weight'] / ((cardio_clean['height']/100) ** 2), 1)\n",
    "\n",
    "# 6. Categorize BMI\n",
    "cardio_clean['bmi_category'] = pd.cut(\n",
    "    cardio_clean['bmi'],\n",
    "    bins=[0, 18.5, 25, 30, 100],\n",
    "    labels=['Underweight', 'Normal', 'Overweight', 'Obese']\n",
    ")\n"
   ],
   "id": "f395a0fc015193b9",
   "outputs": [],
   "execution_count": 8
  },
  {
   "metadata": {
    "ExecuteTime": {
     "end_time": "2025-07-22T18:50:00.014914Z",
     "start_time": "2025-07-22T18:49:59.996567Z"
    }
   },
   "cell_type": "code",
   "source": [
    "# 7. Convert categorical variables to appropriate format\n",
    "\n",
    "# Convert categorical features to proper dtype\n",
    "cat_features = ['cholesterol', 'gluc', 'smoke', 'alco', 'active', 'gender', 'cardio']\n",
    "for feature in cat_features:\n",
    "    cardio_clean[feature] = cardio_clean[feature].astype('category')\n",
    "\n",
    "# Create blood pressure categories based on medical standards\n",
    "cardio_clean['bp_category'] = 'Normal'\n",
    "# Elevated: Systolic 120-129 and diastolic < 80\n",
    "cardio_clean.loc[(cardio_clean['ap_hi'] >= 120) & (cardio_clean['ap_hi'] <= 129) &\n",
    "               (cardio_clean['ap_lo'] < 80), 'bp_category'] = 'Elevated'\n",
    "# Stage 1: Systolic 130-139 or diastolic 80-89\n",
    "cardio_clean.loc[((cardio_clean['ap_hi'] >= 130) & (cardio_clean['ap_hi'] <= 139)) |\n",
    "               ((cardio_clean['ap_lo'] >= 80) & (cardio_clean['ap_lo'] <= 89)), 'bp_category'] = 'Hypertension_1'\n",
    "# Stage 2: Systolic >= 140 or diastolic >= 90\n",
    "cardio_clean.loc[(cardio_clean['ap_hi'] >= 140) | (cardio_clean['ap_lo'] >= 90), 'bp_category'] = 'Hypertension_2'\n",
    "\n",
    "cardio_clean['bp_category'] = cardio_clean['bp_category'].astype('category')\n"
   ],
   "id": "c082f460761be04d",
   "outputs": [],
   "execution_count": 9
  },
  {
   "metadata": {
    "ExecuteTime": {
     "end_time": "2025-07-22T18:50:00.095722Z",
     "start_time": "2025-07-22T18:50:00.091793Z"
    }
   },
   "cell_type": "code",
   "source": [
    "# 8. Check dataset after cleaning\n",
    "print(f\"Original shape: {cardioRaw.shape}, Clean shape: {cardio_clean.shape}\")\n",
    "print(f\"Removed {cardioRaw.shape[0] - cardio_clean.shape[0]} outliers or invalid records\")\n"
   ],
   "id": "4daebae36d0b0bd",
   "outputs": [
    {
     "name": "stdout",
     "output_type": "stream",
     "text": [
      "Original shape: (70000, 13), Clean shape: (68425, 17)\n",
      "Removed 1575 outliers or invalid records\n"
     ]
    }
   ],
   "execution_count": 10
  },
  {
   "metadata": {
    "ExecuteTime": {
     "end_time": "2025-07-22T18:50:00.119325Z",
     "start_time": "2025-07-22T18:50:00.115239Z"
    }
   },
   "cell_type": "code",
   "source": [
    "# 9. Create feature for pulse pressure (difference between systolic and diastolic)\n",
    "cardio_clean['pulse_pressure'] = cardio_clean['ap_hi'] - cardio_clean['ap_lo']\n"
   ],
   "id": "a33276f8e70a8e19",
   "outputs": [],
   "execution_count": 11
  },
  {
   "metadata": {
    "ExecuteTime": {
     "end_time": "2025-07-22T18:50:00.142721Z",
     "start_time": "2025-07-22T18:50:00.134353Z"
    }
   },
   "cell_type": "code",
   "source": [
    "# 10. Feature engineering: create risk factors count\n",
    "# Count risk factors: high cholesterol, high glucose, smoking, alcohol, inactive, high BMI, high BP\n",
    "cardio_clean['bp_category'] = pd.Categorical(\n",
    "    cardio_clean['bp_category'],\n",
    "    categories=['Normal', 'Prehypertension', 'Hypertension_1', 'Hypertension_2'],\n",
    "    ordered=True\n",
    ")\n",
    "\n",
    "# Update risk_factors calculation\n",
    "cardio_clean['risk_factors'] = (\n",
    "    (cardio_clean['cholesterol'] != 1).astype(int) +\n",
    "    (cardio_clean['gluc'] != 1).astype(int) +\n",
    "    (cardio_clean['smoke'] == 1).astype(int) +\n",
    "    (cardio_clean['alco'] == 1).astype(int) +\n",
    "    (cardio_clean['active'] == 0).astype(int) +\n",
    "    (cardio_clean['bmi'] >= 30).astype(int) +\n",
    "    (cardio_clean['bp_category']\n",
    "        .isin(['Hypertension_1', 'Hypertension_2'])).astype(int)\n",
    ")\n"
   ],
   "id": "ceda0f77837a5c7a",
   "outputs": [],
   "execution_count": 12
  },
  {
   "metadata": {
    "ExecuteTime": {
     "end_time": "2025-07-22T18:50:00.232823Z",
     "start_time": "2025-07-22T18:50:00.159925Z"
    }
   },
   "cell_type": "code",
   "source": [
    "# 11. Save the cleaned dataset\n",
    "cardio_clean.to_parquet('./cardio_clean.parquet', engine='fastparquet')\n"
   ],
   "id": "ebb40299630222a0",
   "outputs": [],
   "execution_count": 13
  },
  {
   "metadata": {
    "ExecuteTime": {
     "end_time": "2025-07-22T18:50:00.348726Z",
     "start_time": "2025-07-22T18:50:00.246960Z"
    }
   },
   "cell_type": "code",
   "source": [
    "# 12. Check class balance of the target variable\n",
    "plt.figure(figsize=(8, 6))\n",
    "sns.countplot(x='cardio', data=cardio_clean)\n",
    "plt.title('Class Balance - Cardiovascular Disease')\n",
    "plt.ylabel('Count')\n",
    "plt.xlabel('Cardiovascular Disease (0=No, 1=Yes)')\n",
    "plt.show()\n",
    "\n",
    "print(\"Class distribution:\")\n",
    "print(cardio_clean['cardio'].value_counts(normalize=True))\n"
   ],
   "id": "b9caa903ce7c1cd6",
   "outputs": [
    {
     "data": {
      "text/plain": [
       "<Figure size 800x600 with 1 Axes>"
      ],
      "image/png": "[encoded data removed]"
     },
     "metadata": {},
     "output_type": "display_data"
    },
    {
     "name": "stdout",
     "output_type": "stream",
     "text": [
      "Class distribution:\n",
      "cardio\n",
      "0    0.5054\n",
      "1    0.4946\n",
      "Name: proportion, dtype: float64\n"
     ]
    }
   ],
   "execution_count": 14
  },
  {
   "metadata": {
    "ExecuteTime": {
     "end_time": "2025-07-22T18:57:42.794235Z",
     "start_time": "2025-07-22T18:57:42.767233Z"
    }
   },
   "cell_type": "code",
   "source": [
    "# 13. Prepare dataset for modeling\n",
    "cardio_clean=pd.read_parquet('./cardio_clean.parquet')\n",
    "# Create feature and target variables\n",
    "X = cardio_clean.drop(['cardio', 'age', 'id'], axis=1, errors='ignore')\n",
    "y = cardio_clean['cardio']\n",
    "\n",
    "# Display the final features for modeling\n",
    "print(\"Features available for modeling:\")\n",
    "print(X.columns.tolist())\n",
    "\n",
    "# Verify that the cleaned dataset is ready for modeling\n",
    "print(f\"\\nFeature dataset shape: {X.shape}\")\n",
    "print(f\"Target dataset shape: {y.shape}\")\n",
    "# Explore dataset structure\n",
    "print(\"Dataset shape:\", cardioRaw.shape)\n",
    "cardioRaw.head()"
   ],
   "id": "4dffbd34f29bddf6",
   "outputs": [
    {
     "name": "stdout",
     "output_type": "stream",
     "text": [
      "Features available for modeling:\n",
      "['gender', 'height', 'weight', 'ap_hi', 'ap_lo', 'cholesterol', 'gluc', 'smoke', 'alco', 'active', 'age_years', 'bmi', 'bmi_category', 'bp_category', 'pulse_pressure', 'risk_factors']\n",
      "\n",
      "Feature dataset shape: (68425, 16)\n",
      "Target dataset shape: (68425,)\n",
      "Dataset shape: (70000, 13)\n"
     ]
    },
    {
     "data": {
      "text/plain": [
       "   id    age  gender  height  weight  ap_hi  ap_lo  cholesterol  gluc  smoke  \\\n",
       "0   0  18393       2     168    62.0    110     80            1     1      0   \n",
       "1   1  20228       1     156    85.0    140     90            3     1      0   \n",
       "2   2  18857       1     165    64.0    130     70            3     1      0   \n",
       "3   3  17623       2     169    82.0    150    100            1     1      0   \n",
       "4   4  17474       1     156    56.0    100     60            1     1      0   \n",
       "\n",
       "   alco  active  cardio  \n",
       "0     0       1       0  \n",
       "1     0       1       1  \n",
       "2     0       0       1  \n",
       "3     0       1       1  \n",
       "4     0       0       0  "
      ],
      "text/html": [
       "<div>\n",
       "<style scoped>\n",
       "    .dataframe tbody tr th:only-of-type {\n",
       "        vertical-align: middle;\n",
       "    }\n",
       "\n",
       "    .dataframe tbody tr th {\n",
       "        vertical-align: top;\n",
       "    }\n",
       "\n",
       "    .dataframe thead th {\n",
       "        text-align: right;\n",
       "    }\n",
       "</style>\n",
       "<table border=\"1\" class=\"dataframe\">\n",
       "  <thead>\n",
       "    <tr style=\"text-align: right;\">\n",
       "      <th></th>\n",
       "      <th>id</th>\n",
       "      <th>age</th>\n",
       "      <th>gender</th>\n",
       "      <th>height</th>\n",
       "      <th>weight</th>\n",
       "      <th>ap_hi</th>\n",
       "      <th>ap_lo</th>\n",
       "      <th>cholesterol</th>\n",
       "      <th>gluc</th>\n",
       "      <th>smoke</th>\n",
       "      <th>alco</th>\n",
       "      <th>active</th>\n",
       "      <th>cardio</th>\n",
       "    </tr>\n",
       "  </thead>\n",
       "  <tbody>\n",
       "    <tr>\n",
       "      <th>0</th>\n",
       "      <td>0</td>\n",
       "      <td>18393</td>\n",
       "      <td>2</td>\n",
       "      <td>168</td>\n",
       "      <td>62.0</td>\n",
       "      <td>110</td>\n",
       "      <td>80</td>\n",
       "      <td>1</td>\n",
       "      <td>1</td>\n",
       "      <td>0</td>\n",
       "      <td>0</td>\n",
       "      <td>1</td>\n",
       "      <td>0</td>\n",
       "    </tr>\n",
       "    <tr>\n",
       "      <th>1</th>\n",
       "      <td>1</td>\n",
       "      <td>20228</td>\n",
       "      <td>1</td>\n",
       "      <td>156</td>\n",
       "      <td>85.0</td>\n",
       "      <td>140</td>\n",
       "      <td>90</td>\n",
       "      <td>3</td>\n",
       "      <td>1</td>\n",
       "      <td>0</td>\n",
       "      <td>0</td>\n",
       "      <td>1</td>\n",
       "      <td>1</td>\n",
       "    </tr>\n",
       "    <tr>\n",
       "      <th>2</th>\n",
       "      <td>2</td>\n",
       "      <td>18857</td>\n",
       "      <td>1</td>\n",
       "      <td>165</td>\n",
       "      <td>64.0</td>\n",
       "      <td>130</td>\n",
       "      <td>70</td>\n",
       "      <td>3</td>\n",
       "      <td>1</td>\n",
       "      <td>0</td>\n",
       "      <td>0</td>\n",
       "      <td>0</td>\n",
       "      <td>1</td>\n",
       "    </tr>\n",
       "    <tr>\n",
       "      <th>3</th>\n",
       "      <td>3</td>\n",
       "      <td>17623</td>\n",
       "      <td>2</td>\n",
       "      <td>169</td>\n",
       "      <td>82.0</td>\n",
       "      <td>150</td>\n",
       "      <td>100</td>\n",
       "      <td>1</td>\n",
       "      <td>1</td>\n",
       "      <td>0</td>\n",
       "      <td>0</td>\n",
       "      <td>1</td>\n",
       "      <td>1</td>\n",
       "    </tr>\n",
       "    <tr>\n",
       "      <th>4</th>\n",
       "      <td>4</td>\n",
       "      <td>17474</td>\n",
       "      <td>1</td>\n",
       "      <td>156</td>\n",
       "      <td>56.0</td>\n",
       "      <td>100</td>\n",
       "      <td>60</td>\n",
       "      <td>1</td>\n",
       "      <td>1</td>\n",
       "      <td>0</td>\n",
       "      <td>0</td>\n",
       "      <td>0</td>\n",
       "      <td>0</td>\n",
       "    </tr>\n",
       "  </tbody>\n",
       "</table>\n",
       "</div>"
      ]
     },
     "execution_count": 18,
     "metadata": {},
     "output_type": "execute_result"
    }
   ],
   "execution_count": 18
  },
  {
   "metadata": {
    "ExecuteTime": {
     "end_time": "2025-07-22T18:57:44.865384Z",
     "start_time": "2025-07-22T18:57:44.732967Z"
    }
   },
   "cell_type": "code",
   "source": [
    "# Identifying categorical and numeric columns\n",
    "categorical_columns = [\"gender\", \"cholesterol\", \"gluc\", \"smoke\", \"alco\", \"active\", \"bp_category\"]\n",
    "numeric_columns = [\"height\", \"weight\", \"age_years\", \"ap_hi\", \"ap_lo\", \"bmi\"]\n",
    "\n",
    "# Preprocessing pipeline (one-hot encoding for categorical, scaling for numeric)\n",
    "preprocessor = ColumnTransformer(\n",
    "    transformers=[\n",
    "        (\"num\", StandardScaler(), numeric_columns),\n",
    "        (\"cat\", OneHotEncoder(drop=\"first\"), categorical_columns),\n",
    "    ]\n",
    ")\n",
    "\n",
    "# Apply preprocessing to the entire dataset before splitting\n",
    "X_processed = preprocessor.fit_transform(X)\n",
    "\n",
    "# Splitting the dataset (80%, 10%, 10%)\n",
    "X_train, X_holdout, y_train, y_holdout = train_test_split(\n",
    "    X_processed, y, test_size=0.2, random_state=42, stratify=y\n",
    ")\n",
    "X_validate, X_test, y_validate, y_test = train_test_split(\n",
    "    X_holdout, y_holdout, test_size=0.5, random_state=42, stratify=y_holdout\n",
    ")\n",
    "\n",
    "# Convert processed data back to Pandas DataFrame (optional for saving)\n",
    "# Obtain feature names after preprocessing\n",
    "categorical_features_encoded = preprocessor.named_transformers_[\"cat\"].get_feature_names_out(categorical_columns)\n",
    "all_feature_names = numeric_columns + list(categorical_features_encoded)\n",
    "\n",
    "X_train = pd.DataFrame(X_train, columns=all_feature_names)\n",
    "X_validate = pd.DataFrame(X_validate, columns=all_feature_names)\n",
    "X_test = pd.DataFrame(X_test, columns=all_feature_names)\n",
    "\n",
    "# Save splits to Parquet\n",
    "X_train.to_parquet(\"./cardio_split/X_train.parquet\", engine=\"fastparquet\")\n",
    "pd.DataFrame(y_train).to_parquet(\"./cardio_split/Y_train.parquet\", engine=\"fastparquet\")\n",
    "\n",
    "X_validate.to_parquet(\"./cardio_split/X_validate.parquet\", engine=\"fastparquet\")\n",
    "pd.DataFrame(y_validate).to_parquet(\"./cardio_split/Y_validate.parquet\", engine=\"fastparquet\")\n",
    "\n",
    "X_test.to_parquet(\"./cardio_split/X_test.parquet\", engine=\"fastparquet\")\n",
    "pd.DataFrame(y_test).to_parquet(\"./cardio_split/Y_test.parquet\", engine=\"fastparquet\")\n",
    "\n",
    "# Output dimensions for verification\n",
    "print(f\"X_train shape: {X_train.shape}, Y_train shape: {len(y_train)}\")\n",
    "print(f\"X_validate shape: {X_validate.shape}, Y_validate shape: {len(y_validate)}\")\n",
    "print(f\"X_test shape: {X_test.shape}, Y_test shape: {len(y_test)}\")\n"
   ],
   "id": "a504efeb3e84b942",
   "outputs": [
    {
     "name": "stdout",
     "output_type": "stream",
     "text": [
      "X_train shape: (54740, 17), Y_train shape: 54740\n",
      "X_validate shape: (6842, 17), Y_validate shape: 6842\n",
      "X_test shape: (6843, 17), Y_test shape: 6843\n"
     ]
    }
   ],
   "execution_count": 19
  },
  {
   "metadata": {},
   "cell_type": "code",
   "outputs": [],
   "execution_count": null,
   "source": "",
   "id": "90ff28be6487ec8f"
  }
 ],
 "metadata": {
  "kernelspec": {
   "display_name": "Python 3",
   "language": "python",
   "name": "python3"
  },
  "language_info": {
   "codemirror_mode": {
    "name": "ipython",
    "version": 2
   },
   "file_extension": ".py",
   "mimetype": "text/x-python",
   "name": "python",
   "nbconvert_exporter": "python",
   "pygments_lexer": "ipython2",
   "version": "2.7.6"
  }
 },
 "nbformat": 4,
 "nbformat_minor": 5
}
