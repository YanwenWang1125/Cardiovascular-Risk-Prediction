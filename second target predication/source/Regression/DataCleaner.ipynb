{
 "cells": [
  {
   "cell_type": "code",
   "id": "initial_id",
   "metadata": {
    "collapsed": true,
    "ExecuteTime": {
     "end_time": "2025-08-04T22:21:22.707966Z",
     "start_time": "2025-08-04T22:21:22.703857Z"
    }
   },
   "source": [
    "import pandas as pd\n",
    "import numpy as np\n",
    "import matplotlib.pyplot as plt\n",
    "import seaborn as sns\n",
    "from sklearn.model_selection import train_test_split\n",
    "from sklearn.preprocessing import StandardScaler, OneHotEncoder\n",
    "from sklearn.compose import ColumnTransformer\n",
    "from sklearn.pipeline import Pipeline\n"
   ],
   "outputs": [],
   "execution_count": 21
  },
  {
   "metadata": {
    "ExecuteTime": {
     "end_time": "2025-08-04T22:21:22.760714Z",
     "start_time": "2025-08-04T22:21:22.751792Z"
    }
   },
   "cell_type": "code",
   "source": "cardioRaw=pd.read_parquet('./cardio.parquet')",
   "id": "2f632aac4de60d71",
   "outputs": [],
   "execution_count": 22
  },
  {
   "metadata": {},
   "cell_type": "markdown",
   "source": [
    "Age | Objective Feature | age | int (days)\n",
    "\n",
    "Height | Objective Feature | height | int (cm) |\n",
    "\n",
    "Weight | Objective Feature | weight | float (kg) |\n",
    "\n",
    "Gender | Objective Feature | gender | categorical code |\n",
    "\n",
    "Systolic blood pressure | Examination Feature | ap_hi | int |\n",
    "\n",
    "Diastolic blood pressure | Examination Feature | ap_lo | int |\n",
    "\n",
    "Cholesterol | Examination Feature | cholesterol | 1: normal, 2: above normal, 3: well above normal |\n",
    "\n",
    "Glucose | Examination Feature | gluc | 1: normal, 2: above normal, 3: well above normal |\n",
    "\n",
    "Smoking | Subjective Feature | smoke | binary |\n",
    "\n",
    "Alcohol intake | Subjective Feature | alco | binary |\n",
    "\n",
    "Physical activity | Subjective Feature | active | binary |\n",
    "\n",
    "Presence or absence of cardiovascular disease | Target Variable | cardio | binary |\n"
   ],
   "id": "e55dae41c3b6b67e"
  },
  {
   "metadata": {
    "ExecuteTime": {
     "end_time": "2025-08-04T22:21:22.804195Z",
     "start_time": "2025-08-04T22:21:22.797220Z"
    }
   },
   "cell_type": "code",
   "source": [
    "# Explore dataset structure\n",
    "print(\"Dataset shape:\", cardioRaw.shape)\n",
    "cardioRaw.head()\n"
   ],
   "id": "62061b4be6268324",
   "outputs": [
    {
     "name": "stdout",
     "output_type": "stream",
     "text": [
      "Dataset shape: (70000, 13)\n"
     ]
    },
    {
     "data": {
      "text/plain": [
       "   id    age  gender  height  weight  ap_hi  ap_lo  cholesterol  gluc  smoke  \\\n",
       "0   0  18393       2     168    62.0    110     80            1     1      0   \n",
       "1   1  20228       1     156    85.0    140     90            3     1      0   \n",
       "2   2  18857       1     165    64.0    130     70            3     1      0   \n",
       "3   3  17623       2     169    82.0    150    100            1     1      0   \n",
       "4   4  17474       1     156    56.0    100     60            1     1      0   \n",
       "\n",
       "   alco  active  cardio  \n",
       "0     0       1       0  \n",
       "1     0       1       1  \n",
       "2     0       0       1  \n",
       "3     0       1       1  \n",
       "4     0       0       0  "
      ],
      "text/html": [
       "<div>\n",
       "<style scoped>\n",
       "    .dataframe tbody tr th:only-of-type {\n",
       "        vertical-align: middle;\n",
       "    }\n",
       "\n",
       "    .dataframe tbody tr th {\n",
       "        vertical-align: top;\n",
       "    }\n",
       "\n",
       "    .dataframe thead th {\n",
       "        text-align: right;\n",
       "    }\n",
       "</style>\n",
       "<table border=\"1\" class=\"dataframe\">\n",
       "  <thead>\n",
       "    <tr style=\"text-align: right;\">\n",
       "      <th></th>\n",
       "      <th>id</th>\n",
       "      <th>age</th>\n",
       "      <th>gender</th>\n",
       "      <th>height</th>\n",
       "      <th>weight</th>\n",
       "      <th>ap_hi</th>\n",
       "      <th>ap_lo</th>\n",
       "      <th>cholesterol</th>\n",
       "      <th>gluc</th>\n",
       "      <th>smoke</th>\n",
       "      <th>alco</th>\n",
       "      <th>active</th>\n",
       "      <th>cardio</th>\n",
       "    </tr>\n",
       "  </thead>\n",
       "  <tbody>\n",
       "    <tr>\n",
       "      <th>0</th>\n",
       "      <td>0</td>\n",
       "      <td>18393</td>\n",
       "      <td>2</td>\n",
       "      <td>168</td>\n",
       "      <td>62.0</td>\n",
       "      <td>110</td>\n",
       "      <td>80</td>\n",
       "      <td>1</td>\n",
       "      <td>1</td>\n",
       "      <td>0</td>\n",
       "      <td>0</td>\n",
       "      <td>1</td>\n",
       "      <td>0</td>\n",
       "    </tr>\n",
       "    <tr>\n",
       "      <th>1</th>\n",
       "      <td>1</td>\n",
       "      <td>20228</td>\n",
       "      <td>1</td>\n",
       "      <td>156</td>\n",
       "      <td>85.0</td>\n",
       "      <td>140</td>\n",
       "      <td>90</td>\n",
       "      <td>3</td>\n",
       "      <td>1</td>\n",
       "      <td>0</td>\n",
       "      <td>0</td>\n",
       "      <td>1</td>\n",
       "      <td>1</td>\n",
       "    </tr>\n",
       "    <tr>\n",
       "      <th>2</th>\n",
       "      <td>2</td>\n",
       "      <td>18857</td>\n",
       "      <td>1</td>\n",
       "      <td>165</td>\n",
       "      <td>64.0</td>\n",
       "      <td>130</td>\n",
       "      <td>70</td>\n",
       "      <td>3</td>\n",
       "      <td>1</td>\n",
       "      <td>0</td>\n",
       "      <td>0</td>\n",
       "      <td>0</td>\n",
       "      <td>1</td>\n",
       "    </tr>\n",
       "    <tr>\n",
       "      <th>3</th>\n",
       "      <td>3</td>\n",
       "      <td>17623</td>\n",
       "      <td>2</td>\n",
       "      <td>169</td>\n",
       "      <td>82.0</td>\n",
       "      <td>150</td>\n",
       "      <td>100</td>\n",
       "      <td>1</td>\n",
       "      <td>1</td>\n",
       "      <td>0</td>\n",
       "      <td>0</td>\n",
       "      <td>1</td>\n",
       "      <td>1</td>\n",
       "    </tr>\n",
       "    <tr>\n",
       "      <th>4</th>\n",
       "      <td>4</td>\n",
       "      <td>17474</td>\n",
       "      <td>1</td>\n",
       "      <td>156</td>\n",
       "      <td>56.0</td>\n",
       "      <td>100</td>\n",
       "      <td>60</td>\n",
       "      <td>1</td>\n",
       "      <td>1</td>\n",
       "      <td>0</td>\n",
       "      <td>0</td>\n",
       "      <td>0</td>\n",
       "      <td>0</td>\n",
       "    </tr>\n",
       "  </tbody>\n",
       "</table>\n",
       "</div>"
      ]
     },
     "execution_count": 23,
     "metadata": {},
     "output_type": "execute_result"
    }
   ],
   "execution_count": 23
  },
  {
   "metadata": {
    "ExecuteTime": {
     "end_time": "2025-08-04T22:21:22.884859Z",
     "start_time": "2025-08-04T22:21:22.877662Z"
    }
   },
   "cell_type": "code",
   "source": [
    "# Check for missing values\n",
    "print(\"Missing values:\")\n",
    "print(cardioRaw.isnull().sum())\n"
   ],
   "id": "610b355ee9334ae0",
   "outputs": [
    {
     "name": "stdout",
     "output_type": "stream",
     "text": [
      "Missing values:\n",
      "id             0\n",
      "age            0\n",
      "gender         0\n",
      "height         0\n",
      "weight         0\n",
      "ap_hi          0\n",
      "ap_lo          0\n",
      "cholesterol    0\n",
      "gluc           0\n",
      "smoke          0\n",
      "alco           0\n",
      "active         0\n",
      "cardio         0\n",
      "dtype: int64\n"
     ]
    }
   ],
   "execution_count": 24
  },
  {
   "metadata": {
    "ExecuteTime": {
     "end_time": "2025-08-04T22:21:23.074209Z",
     "start_time": "2025-08-04T22:21:23.069189Z"
    }
   },
   "cell_type": "code",
   "source": [
    "# Check data types\n",
    "print(\"Data types:\")\n",
    "print(cardioRaw.dtypes)\n"
   ],
   "id": "90259d23865b5f5f",
   "outputs": [
    {
     "name": "stdout",
     "output_type": "stream",
     "text": [
      "Data types:\n",
      "id               int64\n",
      "age              int64\n",
      "gender           int64\n",
      "height           int64\n",
      "weight         float64\n",
      "ap_hi            int64\n",
      "ap_lo            int64\n",
      "cholesterol      int64\n",
      "gluc             int64\n",
      "smoke            int64\n",
      "alco             int64\n",
      "active           int64\n",
      "cardio           int64\n",
      "dtype: object\n"
     ]
    }
   ],
   "execution_count": 25
  },
  {
   "metadata": {
    "ExecuteTime": {
     "end_time": "2025-08-04T22:21:23.190755Z",
     "start_time": "2025-08-04T22:21:23.155231Z"
    }
   },
   "cell_type": "code",
   "source": [
    "# Basic statistics\n",
    "cardioRaw.drop('id', axis=1, inplace=True)\n",
    "cardioRaw.describe()\n"
   ],
   "id": "99e3db67bd6b381f",
   "outputs": [
    {
     "data": {
      "text/plain": [
       "                age        gender        height        weight         ap_hi  \\\n",
       "count  70000.000000  70000.000000  70000.000000  70000.000000  70000.000000   \n",
       "mean   19468.865814      1.349571    164.359229     74.205690    128.817286   \n",
       "std     2467.251667      0.476838      8.210126     14.395757    154.011419   \n",
       "min    10798.000000      1.000000     55.000000     10.000000   -150.000000   \n",
       "25%    17664.000000      1.000000    159.000000     65.000000    120.000000   \n",
       "50%    19703.000000      1.000000    165.000000     72.000000    120.000000   \n",
       "75%    21327.000000      2.000000    170.000000     82.000000    140.000000   \n",
       "max    23713.000000      2.000000    250.000000    200.000000  16020.000000   \n",
       "\n",
       "              ap_lo   cholesterol          gluc         smoke          alco  \\\n",
       "count  70000.000000  70000.000000  70000.000000  70000.000000  70000.000000   \n",
       "mean      96.630414      1.366871      1.226457      0.088129      0.053771   \n",
       "std      188.472530      0.680250      0.572270      0.283484      0.225568   \n",
       "min      -70.000000      1.000000      1.000000      0.000000      0.000000   \n",
       "25%       80.000000      1.000000      1.000000      0.000000      0.000000   \n",
       "50%       80.000000      1.000000      1.000000      0.000000      0.000000   \n",
       "75%       90.000000      2.000000      1.000000      0.000000      0.000000   \n",
       "max    11000.000000      3.000000      3.000000      1.000000      1.000000   \n",
       "\n",
       "             active        cardio  \n",
       "count  70000.000000  70000.000000  \n",
       "mean       0.803729      0.499700  \n",
       "std        0.397179      0.500003  \n",
       "min        0.000000      0.000000  \n",
       "25%        1.000000      0.000000  \n",
       "50%        1.000000      0.000000  \n",
       "75%        1.000000      1.000000  \n",
       "max        1.000000      1.000000  "
      ],
      "text/html": [
       "<div>\n",
       "<style scoped>\n",
       "    .dataframe tbody tr th:only-of-type {\n",
       "        vertical-align: middle;\n",
       "    }\n",
       "\n",
       "    .dataframe tbody tr th {\n",
       "        vertical-align: top;\n",
       "    }\n",
       "\n",
       "    .dataframe thead th {\n",
       "        text-align: right;\n",
       "    }\n",
       "</style>\n",
       "<table border=\"1\" class=\"dataframe\">\n",
       "  <thead>\n",
       "    <tr style=\"text-align: right;\">\n",
       "      <th></th>\n",
       "      <th>age</th>\n",
       "      <th>gender</th>\n",
       "      <th>height</th>\n",
       "      <th>weight</th>\n",
       "      <th>ap_hi</th>\n",
       "      <th>ap_lo</th>\n",
       "      <th>cholesterol</th>\n",
       "      <th>gluc</th>\n",
       "      <th>smoke</th>\n",
       "      <th>alco</th>\n",
       "      <th>active</th>\n",
       "      <th>cardio</th>\n",
       "    </tr>\n",
       "  </thead>\n",
       "  <tbody>\n",
       "    <tr>\n",
       "      <th>count</th>\n",
       "      <td>70000.000000</td>\n",
       "      <td>70000.000000</td>\n",
       "      <td>70000.000000</td>\n",
       "      <td>70000.000000</td>\n",
       "      <td>70000.000000</td>\n",
       "      <td>70000.000000</td>\n",
       "      <td>70000.000000</td>\n",
       "      <td>70000.000000</td>\n",
       "      <td>70000.000000</td>\n",
       "      <td>70000.000000</td>\n",
       "      <td>70000.000000</td>\n",
       "      <td>70000.000000</td>\n",
       "    </tr>\n",
       "    <tr>\n",
       "      <th>mean</th>\n",
       "      <td>19468.865814</td>\n",
       "      <td>1.349571</td>\n",
       "      <td>164.359229</td>\n",
       "      <td>74.205690</td>\n",
       "      <td>128.817286</td>\n",
       "      <td>96.630414</td>\n",
       "      <td>1.366871</td>\n",
       "      <td>1.226457</td>\n",
       "      <td>0.088129</td>\n",
       "      <td>0.053771</td>\n",
       "      <td>0.803729</td>\n",
       "      <td>0.499700</td>\n",
       "    </tr>\n",
       "    <tr>\n",
       "      <th>std</th>\n",
       "      <td>2467.251667</td>\n",
       "      <td>0.476838</td>\n",
       "      <td>8.210126</td>\n",
       "      <td>14.395757</td>\n",
       "      <td>154.011419</td>\n",
       "      <td>188.472530</td>\n",
       "      <td>0.680250</td>\n",
       "      <td>0.572270</td>\n",
       "      <td>0.283484</td>\n",
       "      <td>0.225568</td>\n",
       "      <td>0.397179</td>\n",
       "      <td>0.500003</td>\n",
       "    </tr>\n",
       "    <tr>\n",
       "      <th>min</th>\n",
       "      <td>10798.000000</td>\n",
       "      <td>1.000000</td>\n",
       "      <td>55.000000</td>\n",
       "      <td>10.000000</td>\n",
       "      <td>-150.000000</td>\n",
       "      <td>-70.000000</td>\n",
       "      <td>1.000000</td>\n",
       "      <td>1.000000</td>\n",
       "      <td>0.000000</td>\n",
       "      <td>0.000000</td>\n",
       "      <td>0.000000</td>\n",
       "      <td>0.000000</td>\n",
       "    </tr>\n",
       "    <tr>\n",
       "      <th>25%</th>\n",
       "      <td>17664.000000</td>\n",
       "      <td>1.000000</td>\n",
       "      <td>159.000000</td>\n",
       "      <td>65.000000</td>\n",
       "      <td>120.000000</td>\n",
       "      <td>80.000000</td>\n",
       "      <td>1.000000</td>\n",
       "      <td>1.000000</td>\n",
       "      <td>0.000000</td>\n",
       "      <td>0.000000</td>\n",
       "      <td>1.000000</td>\n",
       "      <td>0.000000</td>\n",
       "    </tr>\n",
       "    <tr>\n",
       "      <th>50%</th>\n",
       "      <td>19703.000000</td>\n",
       "      <td>1.000000</td>\n",
       "      <td>165.000000</td>\n",
       "      <td>72.000000</td>\n",
       "      <td>120.000000</td>\n",
       "      <td>80.000000</td>\n",
       "      <td>1.000000</td>\n",
       "      <td>1.000000</td>\n",
       "      <td>0.000000</td>\n",
       "      <td>0.000000</td>\n",
       "      <td>1.000000</td>\n",
       "      <td>0.000000</td>\n",
       "    </tr>\n",
       "    <tr>\n",
       "      <th>75%</th>\n",
       "      <td>21327.000000</td>\n",
       "      <td>2.000000</td>\n",
       "      <td>170.000000</td>\n",
       "      <td>82.000000</td>\n",
       "      <td>140.000000</td>\n",
       "      <td>90.000000</td>\n",
       "      <td>2.000000</td>\n",
       "      <td>1.000000</td>\n",
       "      <td>0.000000</td>\n",
       "      <td>0.000000</td>\n",
       "      <td>1.000000</td>\n",
       "      <td>1.000000</td>\n",
       "    </tr>\n",
       "    <tr>\n",
       "      <th>max</th>\n",
       "      <td>23713.000000</td>\n",
       "      <td>2.000000</td>\n",
       "      <td>250.000000</td>\n",
       "      <td>200.000000</td>\n",
       "      <td>16020.000000</td>\n",
       "      <td>11000.000000</td>\n",
       "      <td>3.000000</td>\n",
       "      <td>3.000000</td>\n",
       "      <td>1.000000</td>\n",
       "      <td>1.000000</td>\n",
       "      <td>1.000000</td>\n",
       "      <td>1.000000</td>\n",
       "    </tr>\n",
       "  </tbody>\n",
       "</table>\n",
       "</div>"
      ]
     },
     "execution_count": 26,
     "metadata": {},
     "output_type": "execute_result"
    }
   ],
   "execution_count": 26
  },
  {
   "metadata": {
    "ExecuteTime": {
     "end_time": "2025-08-04T22:21:23.805691Z",
     "start_time": "2025-08-04T22:21:23.257092Z"
    }
   },
   "cell_type": "code",
   "source": [
    "# Check the distribution of numerical features\n",
    "numerical_features = ['age', 'height', 'weight', 'ap_hi', 'ap_lo']\n",
    "\n",
    "fig, axes = plt.subplots(2, 3, figsize=(15, 10))\n",
    "axes = axes.ravel()\n",
    "\n",
    "for i, feature in enumerate(numerical_features):\n",
    "    axes[i].hist(cardioRaw[feature], bins=50, alpha=0.7)\n",
    "    axes[i].set_title(f'Distribution of {feature}')\n",
    "    axes[i].set_xlabel(feature)\n",
    "    axes[i].set_ylabel('Frequency')\n",
    "\n",
    "# Remove the empty subplot\n",
    "axes[5].remove()\n",
    "plt.tight_layout()\n",
    "plt.show()\n"
   ],
   "id": "f26d746e82d9853b",
   "outputs": [
    {
     "data": {
      "text/plain": [
       "<Figure size 1500x1000 with 5 Axes>"
      ],
      "image/png": "[encoded data removed]"
     },
     "metadata": {},
     "output_type": "display_data"
    }
   ],
   "execution_count": 27
  },
  {
   "metadata": {
    "ExecuteTime": {
     "end_time": "2025-08-04T22:21:23.969566Z",
     "start_time": "2025-08-04T22:21:23.855100Z"
    }
   },
   "cell_type": "code",
   "source": [
    "# Analyze correlations between numerical features\n",
    "correlation_matrix = cardioRaw[numerical_features].corr()\n",
    "plt.figure(figsize=(10, 8))\n",
    "sns.heatmap(correlation_matrix, annot=True, cmap='coolwarm', center=0)\n",
    "plt.title('Correlation Matrix of Numerical Features')\n",
    "plt.show()\n"
   ],
   "id": "6a04516631999cd7",
   "outputs": [
    {
     "data": {
      "text/plain": [
       "<Figure size 1000x800 with 2 Axes>"
      ],
      "image/png": "[encoded data removed]"
     },
     "metadata": {},
     "output_type": "display_data"
    }
   ],
   "execution_count": 28
  },
  {
   "metadata": {
    "ExecuteTime": {
     "end_time": "2025-08-04T22:21:24.379216Z",
     "start_time": "2025-08-04T22:21:24.025269Z"
    }
   },
   "cell_type": "code",
   "source": [
    "# Check for outliers in numerical features\n",
    "plt.figure(figsize=(15, 5))\n",
    "for i, feature in enumerate(numerical_features):\n",
    "    plt.subplot(1, 5, i+1)\n",
    "    plt.boxplot(cardioRaw[feature])\n",
    "    plt.title(f'{feature}')\n",
    "    plt.xticks([])\n",
    "plt.tight_layout()\n",
    "plt.show()\n"
   ],
   "id": "49a8ac23fc36f127",
   "outputs": [
    {
     "data": {
      "text/plain": [
       "<Figure size 1500x500 with 5 Axes>"
      ],
      "image/png": "[encoded data removed]"
     },
     "metadata": {},
     "output_type": "display_data"
    }
   ],
   "execution_count": 29
  },
  {
   "metadata": {
    "ExecuteTime": {
     "end_time": "2025-08-04T22:21:24.422640Z",
     "start_time": "2025-08-04T22:21:24.415635Z"
    }
   },
   "cell_type": "code",
   "source": [
    "# Calculate BMI as a potential derived numerical target\n",
    "cardioRaw['bmi'] = cardioRaw['weight'] / ((cardioRaw['height'] / 100) ** 2)\n",
    "\n",
    "print(\"BMI Analysis:\")\n",
    "print(f\"BMI Range: {cardioRaw['bmi'].min():.2f} - {cardioRaw['bmi'].max():.2f}\")\n",
    "print(f\"BMI Mean: {cardioRaw['bmi'].mean():.2f}\")\n",
    "print(f\"BMI Std: {cardioRaw['bmi'].std():.2f}\")\n",
    "\n",
    "# BMI categories\n",
    "print(\"\\nBMI Categories:\")\n",
    "print(f\"Underweight (<18.5): {(cardioRaw['bmi'] < 18.5).sum()}\")\n",
    "print(f\"Normal (18.5-24.9): {((cardioRaw['bmi'] >= 18.5) & (cardioRaw['bmi'] < 25)).sum()}\")\n",
    "print(f\"Overweight (25-29.9): {((cardioRaw['bmi'] >= 25) & (cardioRaw['bmi'] < 30)).sum()}\")\n",
    "print(f\"Obese (≥30): {(cardioRaw['bmi'] >= 30).sum()}\")\n"
   ],
   "id": "6dadaba783a6e881",
   "outputs": [
    {
     "name": "stdout",
     "output_type": "stream",
     "text": [
      "BMI Analysis:\n",
      "BMI Range: 3.47 - 298.67\n",
      "BMI Mean: 27.56\n",
      "BMI Std: 6.09\n",
      "\n",
      "BMI Categories:\n",
      "Underweight (<18.5): 650\n",
      "Normal (18.5-24.9): 25790\n",
      "Overweight (25-29.9): 25086\n",
      "Obese (≥30): 18474\n"
     ]
    }
   ],
   "execution_count": 30
  },
  {
   "metadata": {
    "ExecuteTime": {
     "end_time": "2025-08-04T22:21:24.618370Z",
     "start_time": "2025-08-04T22:21:24.458336Z"
    }
   },
   "cell_type": "code",
   "source": [
    "# Visualize BMI distribution\n",
    "plt.figure(figsize=(12, 4))\n",
    "\n",
    "plt.subplot(1, 2, 1)\n",
    "plt.hist(cardioRaw['bmi'], bins=50, alpha=0.7, color='skyblue')\n",
    "plt.title('BMI Distribution')\n",
    "plt.xlabel('BMI')\n",
    "plt.ylabel('Frequency')\n",
    "\n",
    "plt.subplot(1, 2, 2)\n",
    "plt.boxplot(cardioRaw['bmi'])\n",
    "plt.title('BMI Boxplot')\n",
    "plt.ylabel('BMI')\n",
    "\n",
    "plt.tight_layout()\n",
    "plt.show()\n"
   ],
   "id": "12a4edc13e512c93",
   "outputs": [
    {
     "data": {
      "text/plain": [
       "<Figure size 1200x400 with 2 Axes>"
      ],
      "image/png": "[encoded data removed]"
     },
     "metadata": {},
     "output_type": "display_data"
    }
   ],
   "execution_count": 31
  },
  {
   "metadata": {
    "ExecuteTime": {
     "end_time": "2025-08-04T22:21:24.656540Z",
     "start_time": "2025-08-04T22:21:24.652343Z"
    }
   },
   "cell_type": "code",
   "source": [
    "# Recommended numerical target variable selection\n",
    "print(\"=\"*60)\n",
    "print(\"RECOMMENDATION FOR NUMERICAL TARGET VARIABLE\")\n",
    "print(\"=\"*60)\n",
    "print(\"\\nBased on the analysis, here are the best options for numerical target variables:\")\n",
    "print(\"\\n1. SYSTOLIC BLOOD PRESSURE (ap_hi) - RECOMMENDED\")\n",
    "print(\"   ✓ Continuous numerical variable\")\n",
    "print(\"   ✓ Clinical significance\")\n",
    "print(\"   ✓ Good range of values for regression\")\n",
    "print(\"   ✓ Related to cardiovascular health\")\n",
    "print(\"   ✓ Medically interpretable results\")\n",
    "\n",
    "print(\"\\n2. BMI (derived from height/weight) - ALTERNATIVE\")\n",
    "print(\"   ✓ Continuous numerical variable\")\n",
    "print(\"   ✓ Health-related target\")\n",
    "print(\"   ✓ Well-understood medical metric\")\n",
    "print(\"   ✓ Good for demonstrating feature engineering\")\n",
    "\n",
    "print(\"\\n3. DIASTOLIC BLOOD PRESSURE (ap_lo) - ALTERNATIVE\")\n",
    "print(\"   ✓ Continuous numerical variable\")\n",
    "print(\"   ✓ Clinical significance\")\n",
    "print(\"   ✓ Complementary to systolic pressure\")\n",
    "\n",
    "print(\"\\n\" + \"=\"*60)\n",
    "print(\"SELECTED TARGET: SYSTOLIC BLOOD PRESSURE (ap_hi)\")\n",
    "print(\"=\"*60)\n"
   ],
   "id": "dd16cf665d1e62cd",
   "outputs": [
    {
     "name": "stdout",
     "output_type": "stream",
     "text": [
      "============================================================\n",
      "RECOMMENDATION FOR NUMERICAL TARGET VARIABLE\n",
      "============================================================\n",
      "\n",
      "Based on the analysis, here are the best options for numerical target variables:\n",
      "\n",
      "1. SYSTOLIC BLOOD PRESSURE (ap_hi) - RECOMMENDED\n",
      "   ✓ Continuous numerical variable\n",
      "   ✓ Clinical significance\n",
      "   ✓ Good range of values for regression\n",
      "   ✓ Related to cardiovascular health\n",
      "   ✓ Medically interpretable results\n",
      "\n",
      "2. BMI (derived from height/weight) - ALTERNATIVE\n",
      "   ✓ Continuous numerical variable\n",
      "   ✓ Health-related target\n",
      "   ✓ Well-understood medical metric\n",
      "   ✓ Good for demonstrating feature engineering\n",
      "\n",
      "3. DIASTOLIC BLOOD PRESSURE (ap_lo) - ALTERNATIVE\n",
      "   ✓ Continuous numerical variable\n",
      "   ✓ Clinical significance\n",
      "   ✓ Complementary to systolic pressure\n",
      "\n",
      "============================================================\n",
      "SELECTED TARGET: SYSTOLIC BLOOD PRESSURE (ap_hi)\n",
      "============================================================\n"
     ]
    }
   ],
   "execution_count": 32
  },
  {
   "metadata": {
    "ExecuteTime": {
     "end_time": "2025-08-04T22:21:24.705090Z",
     "start_time": "2025-08-04T22:21:24.693102Z"
    }
   },
   "cell_type": "code",
   "source": [
    "# Data cleaning for the selected target variable (ap_hi)\n",
    "print(\"Data cleaning for systolic blood pressure (ap_hi):\")\n",
    "\n",
    "# Check for unrealistic values\n",
    "print(f\"Original data points: {len(cardioRaw)}\")\n",
    "print(f\"ap_hi range: {cardioRaw['ap_hi'].min()} - {cardioRaw['ap_hi'].max()}\")\n",
    "\n",
    "# Remove unrealistic blood pressure values (outside physiologically possible range)\n",
    "# Systolic BP should be between 70-250 mmHg for alive individuals\n",
    "cardio_cleaned = cardioRaw[(cardioRaw['ap_hi'] >= 70) & (cardioRaw['ap_hi'] <= 250)].copy()\n",
    "print(f\"After removing unrealistic ap_hi values: {len(cardio_cleaned)}\")\n",
    "\n",
    "# Also clean diastolic pressure for consistency\n",
    "cardio_cleaned = cardio_cleaned[(cardio_cleaned['ap_lo'] >= 40) & (cardio_cleaned['ap_lo'] <= 150)]\n",
    "print(f\"After removing unrealistic ap_lo values: {len(cardio_cleaned)}\")\n",
    "\n",
    "# Ensure systolic > diastolic\n",
    "cardio_cleaned = cardio_cleaned[cardio_cleaned['ap_hi'] > cardio_cleaned['ap_lo']]\n",
    "print(f\"After ensuring ap_hi > ap_lo: {len(cardio_cleaned)}\")\n",
    "\n",
    "print(f\"\\nFinal cleaned dataset size: {len(cardio_cleaned)}\")\n",
    "print(f\"Removed {len(cardioRaw) - len(cardio_cleaned)} rows ({((len(cardioRaw) - len(cardio_cleaned))/len(cardioRaw)*100):.2f}%)\")\n"
   ],
   "id": "3f0726f6d498ce06",
   "outputs": [
    {
     "name": "stdout",
     "output_type": "stream",
     "text": [
      "Data cleaning for systolic blood pressure (ap_hi):\n",
      "Original data points: 70000\n",
      "ap_hi range: -150 - 16020\n",
      "After removing unrealistic ap_hi values: 69771\n",
      "After removing unrealistic ap_lo values: 68754\n",
      "After ensuring ap_hi > ap_lo: 68666\n",
      "\n",
      "Final cleaned dataset size: 68666\n",
      "Removed 1334 rows (1.91%)\n"
     ]
    }
   ],
   "execution_count": 33
  },
  {
   "metadata": {
    "ExecuteTime": {
     "end_time": "2025-08-04T22:21:24.745505Z",
     "start_time": "2025-08-04T22:21:24.734504Z"
    }
   },
   "cell_type": "code",
   "source": [
    "# Final dataset summary with ap_hi as target\n",
    "print(\"FINAL DATASET SUMMARY\")\n",
    "print(\"=\"*40)\n",
    "print(f\"Target Variable: ap_hi (Systolic Blood Pressure)\")\n",
    "print(f\"Dataset size: {len(cardio_cleaned)} samples\")\n",
    "print(f\"Features: {len(cardio_cleaned.columns) - 1}\")\n",
    "print(f\"Target range: {cardio_cleaned['ap_hi'].min()} - {cardio_cleaned['ap_hi'].max()}\")\n",
    "print(f\"Target mean: {cardio_cleaned['ap_hi'].mean():.2f}\")\n",
    "print(f\"Target std: {cardio_cleaned['ap_hi'].std():.2f}\")\n",
    "\n",
    "# Display final cleaned dataset\n",
    "cardio_cleaned.head()\n"
   ],
   "id": "f4a7b345807e54e8",
   "outputs": [
    {
     "name": "stdout",
     "output_type": "stream",
     "text": [
      "FINAL DATASET SUMMARY\n",
      "========================================\n",
      "Target Variable: ap_hi (Systolic Blood Pressure)\n",
      "Dataset size: 68666 samples\n",
      "Features: 12\n",
      "Target range: 70 - 240\n",
      "Target mean: 126.67\n",
      "Target std: 16.68\n"
     ]
    },
    {
     "data": {
      "text/plain": [
       "     age  gender  height  weight  ap_hi  ap_lo  cholesterol  gluc  smoke  \\\n",
       "0  18393       2     168    62.0    110     80            1     1      0   \n",
       "1  20228       1     156    85.0    140     90            3     1      0   \n",
       "2  18857       1     165    64.0    130     70            3     1      0   \n",
       "3  17623       2     169    82.0    150    100            1     1      0   \n",
       "4  17474       1     156    56.0    100     60            1     1      0   \n",
       "\n",
       "   alco  active  cardio        bmi  \n",
       "0     0       1       0  21.967120  \n",
       "1     0       1       1  34.927679  \n",
       "2     0       0       1  23.507805  \n",
       "3     0       1       1  28.710479  \n",
       "4     0       0       0  23.011177  "
      ],
      "text/html": [
       "<div>\n",
       "<style scoped>\n",
       "    .dataframe tbody tr th:only-of-type {\n",
       "        vertical-align: middle;\n",
       "    }\n",
       "\n",
       "    .dataframe tbody tr th {\n",
       "        vertical-align: top;\n",
       "    }\n",
       "\n",
       "    .dataframe thead th {\n",
       "        text-align: right;\n",
       "    }\n",
       "</style>\n",
       "<table border=\"1\" class=\"dataframe\">\n",
       "  <thead>\n",
       "    <tr style=\"text-align: right;\">\n",
       "      <th></th>\n",
       "      <th>age</th>\n",
       "      <th>gender</th>\n",
       "      <th>height</th>\n",
       "      <th>weight</th>\n",
       "      <th>ap_hi</th>\n",
       "      <th>ap_lo</th>\n",
       "      <th>cholesterol</th>\n",
       "      <th>gluc</th>\n",
       "      <th>smoke</th>\n",
       "      <th>alco</th>\n",
       "      <th>active</th>\n",
       "      <th>cardio</th>\n",
       "      <th>bmi</th>\n",
       "    </tr>\n",
       "  </thead>\n",
       "  <tbody>\n",
       "    <tr>\n",
       "      <th>0</th>\n",
       "      <td>18393</td>\n",
       "      <td>2</td>\n",
       "      <td>168</td>\n",
       "      <td>62.0</td>\n",
       "      <td>110</td>\n",
       "      <td>80</td>\n",
       "      <td>1</td>\n",
       "      <td>1</td>\n",
       "      <td>0</td>\n",
       "      <td>0</td>\n",
       "      <td>1</td>\n",
       "      <td>0</td>\n",
       "      <td>21.967120</td>\n",
       "    </tr>\n",
       "    <tr>\n",
       "      <th>1</th>\n",
       "      <td>20228</td>\n",
       "      <td>1</td>\n",
       "      <td>156</td>\n",
       "      <td>85.0</td>\n",
       "      <td>140</td>\n",
       "      <td>90</td>\n",
       "      <td>3</td>\n",
       "      <td>1</td>\n",
       "      <td>0</td>\n",
       "      <td>0</td>\n",
       "      <td>1</td>\n",
       "      <td>1</td>\n",
       "      <td>34.927679</td>\n",
       "    </tr>\n",
       "    <tr>\n",
       "      <th>2</th>\n",
       "      <td>18857</td>\n",
       "      <td>1</td>\n",
       "      <td>165</td>\n",
       "      <td>64.0</td>\n",
       "      <td>130</td>\n",
       "      <td>70</td>\n",
       "      <td>3</td>\n",
       "      <td>1</td>\n",
       "      <td>0</td>\n",
       "      <td>0</td>\n",
       "      <td>0</td>\n",
       "      <td>1</td>\n",
       "      <td>23.507805</td>\n",
       "    </tr>\n",
       "    <tr>\n",
       "      <th>3</th>\n",
       "      <td>17623</td>\n",
       "      <td>2</td>\n",
       "      <td>169</td>\n",
       "      <td>82.0</td>\n",
       "      <td>150</td>\n",
       "      <td>100</td>\n",
       "      <td>1</td>\n",
       "      <td>1</td>\n",
       "      <td>0</td>\n",
       "      <td>0</td>\n",
       "      <td>1</td>\n",
       "      <td>1</td>\n",
       "      <td>28.710479</td>\n",
       "    </tr>\n",
       "    <tr>\n",
       "      <th>4</th>\n",
       "      <td>17474</td>\n",
       "      <td>1</td>\n",
       "      <td>156</td>\n",
       "      <td>56.0</td>\n",
       "      <td>100</td>\n",
       "      <td>60</td>\n",
       "      <td>1</td>\n",
       "      <td>1</td>\n",
       "      <td>0</td>\n",
       "      <td>0</td>\n",
       "      <td>0</td>\n",
       "      <td>0</td>\n",
       "      <td>23.011177</td>\n",
       "    </tr>\n",
       "  </tbody>\n",
       "</table>\n",
       "</div>"
      ]
     },
     "execution_count": 34,
     "metadata": {},
     "output_type": "execute_result"
    }
   ],
   "execution_count": 34
  },
  {
   "metadata": {
    "ExecuteTime": {
     "end_time": "2025-08-04T22:21:24.815678Z",
     "start_time": "2025-08-04T22:21:24.804601Z"
    }
   },
   "cell_type": "code",
   "source": [
    "# STEP 1: Delete null values and prepare data with ap_hi as target\n",
    "print(\"STEP 1: Data Cleaning and Target Selection\")\n",
    "print(\"=\"*50)\n",
    "\n",
    "# Use the cleaned dataset from previous analysis\n",
    "target_data = cardio_cleaned.copy()\n",
    "\n",
    "# Check for null values\n",
    "print(\"Null values check:\")\n",
    "print(target_data.isnull().sum())\n",
    "\n",
    "# Remove any remaining null values\n",
    "target_data = target_data.dropna()\n",
    "print(f\"Dataset size after removing nulls: {len(target_data)}\")\n",
    "\n",
    "# Set ap_hi as target variable and remove cardio (original binary target)\n",
    "y = target_data['ap_hi'].copy()\n",
    "X = target_data.drop(['ap_hi', 'cardio'], axis=1)\n",
    "\n",
    "print(f\"Target variable (ap_hi) shape: {y.shape}\")\n",
    "print(f\"Features shape: {X.shape}\")\n",
    "print(f\"Feature columns: {X.columns.tolist()}\")\n"
   ],
   "id": "6106c80235242a51",
   "outputs": [
    {
     "name": "stdout",
     "output_type": "stream",
     "text": [
      "STEP 1: Data Cleaning and Target Selection\n",
      "==================================================\n",
      "Null values check:\n",
      "age            0\n",
      "gender         0\n",
      "height         0\n",
      "weight         0\n",
      "ap_hi          0\n",
      "ap_lo          0\n",
      "cholesterol    0\n",
      "gluc           0\n",
      "smoke          0\n",
      "alco           0\n",
      "active         0\n",
      "cardio         0\n",
      "bmi            0\n",
      "dtype: int64\n",
      "Dataset size after removing nulls: 68666\n",
      "Target variable (ap_hi) shape: (68666,)\n",
      "Features shape: (68666, 11)\n",
      "Feature columns: ['age', 'gender', 'height', 'weight', 'ap_lo', 'cholesterol', 'gluc', 'smoke', 'alco', 'active', 'bmi']\n"
     ]
    }
   ],
   "execution_count": 35
  },
  {
   "metadata": {
    "ExecuteTime": {
     "end_time": "2025-08-04T22:21:24.872547Z",
     "start_time": "2025-08-04T22:21:24.862248Z"
    }
   },
   "cell_type": "code",
   "source": [
    "# STEP 2: Create interaction features\n",
    "print(\"\\nSTEP 2: Feature Engineering - Creating Interaction Features\")\n",
    "print(\"=\"*50)\n",
    "\n",
    "# Convert age from days to years for better interpretability\n",
    "X['age_years'] = X['age'] / 365.25\n",
    "\n",
    "# Create BMI if not already present\n",
    "if 'bmi' not in X.columns:\n",
    "    X['bmi'] = X['weight'] / ((X['height'] / 100) ** 2)\n",
    "\n",
    "# Create interaction features that make medical sense\n",
    "print(\"Creating interaction features...\")\n",
    "\n",
    "# Age-related interactions\n",
    "X['age_weight_interaction'] = X['age_years'] * X['weight']\n",
    "X['age_bmi_interaction'] = X['age_years'] * X['bmi']\n",
    "\n",
    "# Blood pressure related interactions\n",
    "X['blood_pressure_diff'] = X['ap_hi'] - X['ap_lo'] if 'ap_hi' in X.columns else X['ap_lo']  # This will be ap_lo since we removed ap_hi\n",
    "X['pulse_pressure'] = X['blood_pressure_diff']  # Rename for clarity\n",
    "\n",
    "# Health risk interactions\n",
    "X['cholesterol_glucose_interaction'] = X['cholesterol'] * X['gluc']\n",
    "X['lifestyle_risk'] = X['smoke'] + X['alco'] - X['active']  # Higher = more risk\n",
    "\n",
    "# Physical characteristics\n",
    "X['height_weight_ratio'] = X['height'] / X['weight']\n",
    "X['weight_height_interaction'] = X['weight'] * X['height']\n",
    "\n",
    "# Age and lifestyle interactions\n",
    "X['age_smoke_interaction'] = X['age_years'] * X['smoke']\n",
    "X['age_alcohol_interaction'] = X['age_years'] * X['alco']\n",
    "\n",
    "print(f\"Features after interaction creation: {X.shape[1]}\")\n",
    "print(\"New interaction features created:\")\n",
    "interaction_features = ['age_years', 'bmi', 'age_weight_interaction', 'age_bmi_interaction',\n",
    "                       'pulse_pressure', 'cholesterol_glucose_interaction', 'lifestyle_risk',\n",
    "                       'height_weight_ratio', 'weight_height_interaction', 'age_smoke_interaction',\n",
    "                       'age_alcohol_interaction']\n",
    "for feat in interaction_features:\n",
    "    if feat in X.columns:\n",
    "        print(f\"  - {feat}\")\n"
   ],
   "id": "a32f7506cf8825a7",
   "outputs": [
    {
     "name": "stdout",
     "output_type": "stream",
     "text": [
      "\n",
      "STEP 2: Feature Engineering - Creating Interaction Features\n",
      "==================================================\n",
      "Creating interaction features...\n",
      "Features after interaction creation: 22\n",
      "New interaction features created:\n",
      "  - age_years\n",
      "  - bmi\n",
      "  - age_weight_interaction\n",
      "  - age_bmi_interaction\n",
      "  - pulse_pressure\n",
      "  - cholesterol_glucose_interaction\n",
      "  - lifestyle_risk\n",
      "  - height_weight_ratio\n",
      "  - weight_height_interaction\n",
      "  - age_smoke_interaction\n",
      "  - age_alcohol_interaction\n"
     ]
    }
   ],
   "execution_count": 36
  },
  {
   "metadata": {
    "ExecuteTime": {
     "end_time": "2025-08-04T22:21:24.960Z",
     "start_time": "2025-08-04T22:21:24.954405Z"
    }
   },
   "cell_type": "code",
   "source": [
    "# STEP 3: Identify and prepare categorical/binary features for encoding\n",
    "print(\"\\nSTEP 3: Identifying Features for Encoding\")\n",
    "print(\"=\"*50)\n",
    "\n",
    "# Identify binary and categorical columns\n",
    "binary_columns = ['gender', 'smoke', 'alco', 'active']\n",
    "categorical_columns = ['cholesterol', 'gluc']  # These are ordinal but we'll treat as categorical\n",
    "numerical_columns = [col for col in X.columns if col not in binary_columns + categorical_columns]\n",
    "\n",
    "print(f\"Binary columns for one-hot encoding: {binary_columns}\")\n",
    "print(f\"Categorical columns for one-hot encoding: {categorical_columns}\")\n",
    "print(f\"Numerical columns: {numerical_columns}\")\n",
    "\n",
    "# Check unique values in categorical columns\n",
    "for col in categorical_columns:\n",
    "    print(f\"{col} unique values: {sorted(X[col].unique())}\")\n"
   ],
   "id": "ae73d1b81c5cc910",
   "outputs": [
    {
     "name": "stdout",
     "output_type": "stream",
     "text": [
      "\n",
      "STEP 3: Identifying Features for Encoding\n",
      "==================================================\n",
      "Binary columns for one-hot encoding: ['gender', 'smoke', 'alco', 'active']\n",
      "Categorical columns for one-hot encoding: ['cholesterol', 'gluc']\n",
      "Numerical columns: ['age', 'height', 'weight', 'ap_lo', 'bmi', 'age_years', 'age_weight_interaction', 'age_bmi_interaction', 'blood_pressure_diff', 'pulse_pressure', 'cholesterol_glucose_interaction', 'lifestyle_risk', 'height_weight_ratio', 'weight_height_interaction', 'age_smoke_interaction', 'age_alcohol_interaction']\n",
      "cholesterol unique values: [np.int64(1), np.int64(2), np.int64(3)]\n",
      "gluc unique values: [np.int64(1), np.int64(2), np.int64(3)]\n"
     ]
    }
   ],
   "execution_count": 37
  },
  {
   "metadata": {
    "ExecuteTime": {
     "end_time": "2025-08-04T22:21:25.073923Z",
     "start_time": "2025-08-04T22:21:25.017324Z"
    }
   },
   "cell_type": "code",
   "source": [
    "# STEP 4: Create preprocessing pipeline and fit_transform\n",
    "print(\"\\nSTEP 4: Data Preprocessing Pipeline\")\n",
    "print(\"=\"*50)\n",
    "\n",
    "from sklearn.preprocessing import StandardScaler, OneHotEncoder\n",
    "from sklearn.compose import ColumnTransformer\n",
    "\n",
    "# Create preprocessing pipeline\n",
    "preprocessor = ColumnTransformer(\n",
    "    transformers=[\n",
    "        ('num', StandardScaler(), numerical_columns),\n",
    "        ('cat', OneHotEncoder(drop='first', sparse_output=False), categorical_columns),\n",
    "        ('bin', OneHotEncoder(drop='first', sparse_output=False), binary_columns)\n",
    "    ],\n",
    "    remainder='passthrough'\n",
    ")\n",
    "\n",
    "# Fit and transform the data\n",
    "print(\"Fitting and transforming features...\")\n",
    "X_transformed = preprocessor.fit_transform(X)\n",
    "\n",
    "# Get feature names after transformation\n",
    "feature_names = []\n",
    "# Numerical features\n",
    "feature_names.extend(numerical_columns)\n",
    "# Categorical features\n",
    "for i, col in enumerate(categorical_columns):\n",
    "    encoder = preprocessor.named_transformers_['cat']\n",
    "    if hasattr(encoder, 'categories_'):\n",
    "        categories = encoder.categories_[i]\n",
    "        feature_names.extend([f\"{col}_{cat}\" for cat in categories[1:]])  # Skip first due to drop='first'\n",
    "# Binary features\n",
    "for i, col in enumerate(binary_columns):\n",
    "    encoder = preprocessor.named_transformers_['bin']\n",
    "    if hasattr(encoder, 'categories_'):\n",
    "        categories = encoder.categories_[i]\n",
    "        feature_names.extend([f\"{col}_{cat}\" for cat in categories[1:]])  # Skip first due to drop='first'\n",
    "\n",
    "print(f\"Final feature count after preprocessing: {X_transformed.shape[1]}\")\n",
    "print(f\"Final dataset shape: {X_transformed.shape}\")\n"
   ],
   "id": "e34748b04871347f",
   "outputs": [
    {
     "name": "stdout",
     "output_type": "stream",
     "text": [
      "\n",
      "STEP 4: Data Preprocessing Pipeline\n",
      "==================================================\n",
      "Fitting and transforming features...\n",
      "Final feature count after preprocessing: 24\n",
      "Final dataset shape: (68666, 24)\n"
     ]
    }
   ],
   "execution_count": 38
  },
  {
   "metadata": {
    "ExecuteTime": {
     "end_time": "2025-08-04T22:21:25.120720Z",
     "start_time": "2025-08-04T22:21:25.107942Z"
    }
   },
   "cell_type": "code",
   "source": [
    "# STEP 5: Additional preprocessing for XGBoost\n",
    "print(\"\\nSTEP 5: Additional Preprocessing for XGBoost\")\n",
    "print(\"=\"*50)\n",
    "\n",
    "# XGBoost specific considerations\n",
    "print(\"XGBoost preprocessing considerations:\")\n",
    "print(\"✓ Handle missing values: Already done\")\n",
    "print(\"✓ Feature scaling: Applied StandardScaler to numerical features\")\n",
    "print(\"✓ Categorical encoding: Applied OneHotEncoder\")\n",
    "print(\"✓ Feature interactions: Created relevant medical interactions\")\n",
    "\n",
    "# Check for any infinite or extremely large values\n",
    "import numpy as np\n",
    "inf_mask = np.isinf(X_transformed).any(axis=1)\n",
    "if inf_mask.sum() > 0:\n",
    "    print(f\"Removing {inf_mask.sum()} rows with infinite values\")\n",
    "    X_transformed = X_transformed[~inf_mask]\n",
    "    y = y[~inf_mask]\n",
    "\n",
    "# Check target variable distribution\n",
    "print(f\"\\nTarget variable (ap_hi) statistics:\")\n",
    "print(f\"Mean: {y.mean():.2f}\")\n",
    "print(f\"Std: {y.std():.2f}\")\n",
    "print(f\"Min: {y.min()}\")\n",
    "print(f\"Max: {y.max()}\")\n",
    "print(f\"Range: {y.max() - y.min()}\")\n",
    "\n",
    "# Check for outliers in target variable (optional log transformation consideration)\n",
    "Q1 = y.quantile(0.25)\n",
    "Q3 = y.quantile(0.75)\n",
    "IQR = Q3 - Q1\n",
    "outliers = ((y < (Q1 - 1.5 * IQR)) | (y > (Q3 + 1.5 * IQR))).sum()\n",
    "print(f\"Target outliers (IQR method): {outliers} ({outliers/len(y)*100:.2f}%)\")\n"
   ],
   "id": "502aaefe904649d",
   "outputs": [
    {
     "name": "stdout",
     "output_type": "stream",
     "text": [
      "\n",
      "STEP 5: Additional Preprocessing for XGBoost\n",
      "==================================================\n",
      "XGBoost preprocessing considerations:\n",
      "✓ Handle missing values: Already done\n",
      "✓ Feature scaling: Applied StandardScaler to numerical features\n",
      "✓ Categorical encoding: Applied OneHotEncoder\n",
      "✓ Feature interactions: Created relevant medical interactions\n",
      "\n",
      "Target variable (ap_hi) statistics:\n",
      "Mean: 126.67\n",
      "Std: 16.68\n",
      "Min: 70\n",
      "Max: 240\n",
      "Range: 170\n",
      "Target outliers (IQR method): 1005 (1.46%)\n"
     ]
    }
   ],
   "execution_count": 39
  },
  {
   "metadata": {
    "ExecuteTime": {
     "end_time": "2025-08-04T22:21:25.222914Z",
     "start_time": "2025-08-04T22:21:25.154229Z"
    }
   },
   "cell_type": "code",
   "source": [
    "# STEP 6: Train-Test Split and Save as Parquet\n",
    "print(\"\\nSTEP 6: Train-Test Split and Saving Data\")\n",
    "print(\"=\"*50)\n",
    "\n",
    "from sklearn.model_selection import train_test_split\n",
    "\n",
    "# Split into 90% train, 10% test\n",
    "X_train, X_test, y_train, y_test = train_test_split(\n",
    "    X_transformed, y,\n",
    "    test_size=0.1,\n",
    "    random_state=42,\n",
    "    stratify=None  # Can't stratify continuous target\n",
    ")\n",
    "\n",
    "print(f\"Training set size: {X_train.shape[0]} samples\")\n",
    "print(f\"Test set size: {X_test.shape[0]} samples\")\n",
    "print(f\"Training set percentage: {X_train.shape[0]/len(X_transformed)*100:.1f}%\")\n",
    "print(f\"Test set percentage: {X_test.shape[0]/len(X_transformed)*100:.1f}%\")\n",
    "\n",
    "# Convert to DataFrames for easier saving\n",
    "train_features_df = pd.DataFrame(X_train, columns=[f'feature_{i}' for i in range(X_train.shape[1])])\n",
    "test_features_df = pd.DataFrame(X_test, columns=[f'feature_{i}' for i in range(X_test.shape[1])])\n",
    "train_target_df = pd.DataFrame(y_train.values, columns=['ap_hi'])\n",
    "test_target_df = pd.DataFrame(y_test.values, columns=['ap_hi'])\n",
    "\n",
    "# Save as parquet files\n",
    "print(\"\\nSaving preprocessed data as parquet files...\")\n",
    "train_features_df.to_parquet('X_train.parquet', index=False)\n",
    "test_features_df.to_parquet('X_test.parquet', index=False)\n",
    "train_target_df.to_parquet('y_train.parquet', index=False)\n",
    "test_target_df.to_parquet('y_test.parquet', index=False)\n",
    "\n",
    "print(\"✓ X_train.parquet saved\")\n",
    "print(\"✓ X_test.parquet saved\")\n",
    "print(\"✓ y_train.parquet saved\")\n",
    "print(\"✓ y_test.parquet saved\")\n"
   ],
   "id": "245c45522e3fd5cf",
   "outputs": [
    {
     "name": "stdout",
     "output_type": "stream",
     "text": [
      "\n",
      "STEP 6: Train-Test Split and Saving Data\n",
      "==================================================\n",
      "Training set size: 61799 samples\n",
      "Test set size: 6867 samples\n",
      "Training set percentage: 90.0%\n",
      "Test set percentage: 10.0%\n",
      "\n",
      "Saving preprocessed data as parquet files...\n",
      "✓ X_train.parquet saved\n",
      "✓ X_test.parquet saved\n",
      "✓ y_train.parquet saved\n",
      "✓ y_test.parquet saved\n"
     ]
    }
   ],
   "execution_count": 40
  },
  {
   "metadata": {
    "ExecuteTime": {
     "end_time": "2025-08-04T22:21:25.266979Z",
     "start_time": "2025-08-04T22:21:25.254077Z"
    }
   },
   "cell_type": "code",
   "source": [
    "# STEP 7: Summary and Feature Importance Preparation\n",
    "print(\"\\nSTEP 7: Final Summary and Feature Information\")\n",
    "print(\"=\"*50)\n",
    "\n",
    "# Save feature names and preprocessing info for future reference\n",
    "feature_info = {\n",
    "    'feature_names': feature_names if len(feature_names) == X_transformed.shape[1] else [f'feature_{i}' for i in range(X_transformed.shape[1])],\n",
    "    'numerical_features': numerical_columns,\n",
    "    'categorical_features': categorical_columns,\n",
    "    'binary_features': binary_columns,\n",
    "    'interaction_features': interaction_features,\n",
    "    'target_variable': 'ap_hi',\n",
    "    'train_size': X_train.shape[0],\n",
    "    'test_size': X_test.shape[0],\n",
    "    'total_features': X_transformed.shape[1]\n",
    "}\n",
    "\n",
    "# Save feature info\n",
    "import pickle\n",
    "with open('feature_info.pkl', 'wb') as f:\n",
    "    pickle.dump(feature_info, f)\n",
    "\n",
    "print(\"PREPROCESSING COMPLETE!\")\n",
    "print(\"=\"*50)\n",
    "print(f\"✓ Target variable: ap_hi (Systolic Blood Pressure)\")\n",
    "print(f\"✓ Dataset cleaned and preprocessed\")\n",
    "print(f\"✓ {len(interaction_features)} interaction features created\")\n",
    "print(f\"✓ Categorical and binary features one-hot encoded\")\n",
    "print(f\"✓ Numerical features standardized\")\n",
    "print(f\"✓ Train-test split: 90%-10%\")\n",
    "print(f\"✓ Data saved as parquet files\")\n",
    "print(f\"✓ Ready for XGBoost regression!\")\n",
    "\n",
    "print(f\"\\nFinal dataset statistics:\")\n",
    "print(f\"  - Training samples: {X_train.shape[0]}\")\n",
    "print(f\"  - Test samples: {X_test.shape[0]}\")\n",
    "print(f\"  - Total features: {X_transformed.shape[1]}\")\n",
    "print(f\"  - Target range: {y.min():.0f} - {y.max():.0f} mmHg\")\n",
    "print(f\"  - Target mean: {y.mean():.1f} ± {y.std():.1f} mmHg\")\n",
    "\n",
    "# Display sample of final processed data\n",
    "print(f\"\\nSample of preprocessed training data:\")\n",
    "sample_df = pd.DataFrame(X_train[:5], columns=[f'feature_{i}' for i in range(X_train.shape[1])])\n",
    "sample_df['target_ap_hi'] = y_train.iloc[:5].values\n",
    "print(sample_df)\n"
   ],
   "id": "c68baf824b0076c7",
   "outputs": [
    {
     "name": "stdout",
     "output_type": "stream",
     "text": [
      "\n",
      "STEP 7: Final Summary and Feature Information\n",
      "==================================================\n",
      "PREPROCESSING COMPLETE!\n",
      "==================================================\n",
      "✓ Target variable: ap_hi (Systolic Blood Pressure)\n",
      "✓ Dataset cleaned and preprocessed\n",
      "✓ 11 interaction features created\n",
      "✓ Categorical and binary features one-hot encoded\n",
      "✓ Numerical features standardized\n",
      "✓ Train-test split: 90%-10%\n",
      "✓ Data saved as parquet files\n",
      "✓ Ready for XGBoost regression!\n",
      "\n",
      "Final dataset statistics:\n",
      "  - Training samples: 61799\n",
      "  - Test samples: 6867\n",
      "  - Total features: 24\n",
      "  - Target range: 70 - 240 mmHg\n",
      "  - Target mean: 126.7 ± 16.7 mmHg\n",
      "\n",
      "Sample of preprocessed training data:\n",
      "   feature_0  feature_1  feature_2  feature_3  feature_4  feature_5  \\\n",
      "0  -0.503844   0.566861  -0.287328  -2.260614  -0.497790  -0.503844   \n",
      "1   0.109569  -0.410683   1.945448  -0.138120   1.954593   0.109569   \n",
      "2   1.015508   0.078089  -0.287328  -0.138120  -0.299054   1.015508   \n",
      "3  -1.059319   0.322475   1.177931  -0.138120   0.844022  -1.059319   \n",
      "4   1.516692   0.444668  -0.287328   0.923127  -0.449434   1.516692   \n",
      "\n",
      "   feature_6  feature_7  feature_8  feature_9  ...  feature_15  feature_16  \\\n",
      "0  -0.494104  -0.639718  -2.260614  -2.260614  ...   -0.235348         0.0   \n",
      "1   1.660354   1.695228  -0.138120  -0.138120  ...   -0.235348         1.0   \n",
      "2   0.272737   0.197558  -0.138120  -0.138120  ...    4.821043         0.0   \n",
      "3   0.259241   0.090672  -0.138120  -0.138120  ...   -0.235348         0.0   \n",
      "4   0.525692   0.273155   0.923127   0.923127  ...   -0.235348         1.0   \n",
      "\n",
      "   feature_17  feature_18  feature_19  feature_20  feature_21  feature_22  \\\n",
      "0         0.0         0.0         0.0         0.0         0.0         0.0   \n",
      "1         0.0         1.0         0.0         0.0         0.0         0.0   \n",
      "2         0.0         0.0         0.0         1.0         1.0         1.0   \n",
      "3         0.0         0.0         0.0         1.0         1.0         0.0   \n",
      "4         0.0         0.0         0.0         0.0         0.0         0.0   \n",
      "\n",
      "   feature_23  target_ap_hi  \n",
      "0         1.0           120  \n",
      "1         1.0           130  \n",
      "2         1.0           110  \n",
      "3         1.0           120  \n",
      "4         1.0           150  \n",
      "\n",
      "[5 rows x 25 columns]\n"
     ]
    }
   ],
   "execution_count": 41
  },
  {
   "metadata": {
    "ExecuteTime": {
     "end_time": "2025-08-04T22:21:25.300661Z",
     "start_time": "2025-08-04T22:21:25.299017Z"
    }
   },
   "cell_type": "code",
   "source": "",
   "id": "ef62c8ee2ea3cfcf",
   "outputs": [],
   "execution_count": null
  }
 ],
 "metadata": {
  "kernelspec": {
   "display_name": "Python 3",
   "language": "python",
   "name": "python3"
  },
  "language_info": {
   "codemirror_mode": {
    "name": "ipython",
    "version": 2
   },
   "file_extension": ".py",
   "mimetype": "text/x-python",
   "name": "python",
   "nbconvert_exporter": "python",
   "pygments_lexer": "ipython2",
   "version": "2.7.6"
  }
 },
 "nbformat": 4,
 "nbformat_minor": 5
}
